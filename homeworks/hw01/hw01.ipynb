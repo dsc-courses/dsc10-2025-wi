{
 "cells": [
  {
   "cell_type": "markdown",
   "metadata": {},
   "source": [
    "\n",
    "\n",
    "# Homework 1: Basic Python, Arrays, and DataFrames\n",
    "\n",
    "## Due Tuesday, January 21st at 11:59PM\n",
    "\n",
    "Welcome to Homework 1! This week's homework will cover basic Python, arrays, and DataFrames. You can find additional help on these topics in [Chapter 1](https://www.inferentialthinking.com/chapters/01/what-is-data-science.html) of Computational and Inferential Thinking and [BPD 1-11](https://notes.dsc10.com/01-getting_started/tools.html) in the `babypandas` notes.\n",
    "\n",
    "\n",
    "### Instructions\n",
    "\n",
    "Remember to start early and submit often. You are given six slip days throughout the quarter to extend deadlines. See the syllabus for more details. With the exception of using slip days, late work will not be accepted unless you have made special arrangements with your instructor.\n",
    "\n",
    "**Important**: For homeworks, the `otter` tests don't usually tell you that your answer is correct. More often, they help catch careless mistakes. It's up to you to ensure that your answer is correct. If you're not sure, ask someone (not for the answer, but for some guidance about your approach). These are great questions for office hours (the schedule can be found [here](https://dsc10.com/calendar)) or Ed. Directly sharing answers is not okay, but discussing problems with the course staff or with other students is encouraged. "
   ]
  },
  {
   "cell_type": "code",
   "execution_count": null,
   "metadata": {},
   "outputs": [],
   "source": [
    "# Please don't change this cell, but do make sure to run it.\n",
    "import babypandas as bpd\n",
    "import matplotlib.pyplot as plt\n",
    "import numpy as np\n",
    "import otter\n",
    "grader = otter.Notebook()\n",
    "\n",
    "plt.style.use('ggplot')"
   ]
  },
  {
   "cell_type": "markdown",
   "metadata": {},
   "source": [
    "## 1. Characters in *The Wonderful Wizard of Oz* 👠🧠❤️🦁"
   ]
  },
  {
   "cell_type": "markdown",
   "metadata": {},
   "source": [
    "In Lecture 1, we counted the number of times that the characters Amy, Beth, Jo, Meg, and Laurie were named in each chapter of the classic book _Little Women_. In this question, we'll look at another classic book – _The Wonderful Wizard of Oz (1900)_ by L. Frank Baum and illustrated by W.W. Denslow. In 1956, the copyright protections of the original book (but not the 1939 film produced by Metro-Goldwyn-Mayer!) expired, and so sites like Project Gutenberg are now able to post copies of the book without violating any copyright laws. [Click here](https://www.gutenberg.org/files/55/55-h/55-h.htm) to read the book on Project Gutenberg!"
   ]
  },
  {
   "cell_type": "markdown",
   "metadata": {},
   "source": [
    "<center><img src=images/wizard-of-oz-illustration.png width=350><br>(<a href=\"https://www.nypl.org/events/exhibitions/galleries/childhood/item/5458\">source</a>)</center>"
   ]
  },
  {
   "cell_type": "markdown",
   "metadata": {},
   "source": [
    "Four of the main characters in _The Wonderful Wizard of Oz_ are Dorothy Gale (👠), Scarecrow (🧠), The Tin Man (❤️), and The Cowardly Lion (🦁).\n",
    "\n",
    "Below, we've written code that shows the number of mentions of each of these four characters in the first 12 chapters of the book. However, instead of displaying this information in a line chart, as was done in Lecture 1, we will use a bar chart.\n",
    "\n",
    "Run the cell below to generate this bar chart of the first 12 chapters. This cell contains code that hasn't yet been covered in the course. It isn't expected that you'll understand the code, but you should be able to interpret the bar chart it generates."
   ]
  },
  {
   "cell_type": "code",
   "execution_count": null,
   "metadata": {},
   "outputs": [],
   "source": [
    "# Open the book and split it into chapters.\n",
    "book_file = 'data/the-wonderful-wizard-of-oz.txt'\n",
    "raw_book = open(book_file, encoding=\"utf-8\").read()\n",
    "end_pos = raw_book.index('Chapter XIII')\n",
    "chapters = raw_book[:end_pos].split('Chapter ')[1:]\n",
    "\n",
    "# Find the number of words in each chapter.\n",
    "chapter_lengths = (np.array([len(c.split(' ')) for c in chapters]) / 100)\n",
    "\n",
    "# Find the number of mentions per 100 words for each character and chapter.\n",
    "characters = bpd.DataFrame().assign(\n",
    "    Chapter=np.arange(1, 13),\n",
    "    Dorothy=np.char.count(chapters, 'Dorothy') / chapter_lengths,\n",
    "    Scarecrow=np.char.count(chapters, 'Scarecrow') / chapter_lengths,\n",
    "    Lion=np.char.count(chapters, 'Lion') / chapter_lengths,\n",
    "    Tin_Man=np.char.count(chapters, 'Tin Woodman') / chapter_lengths\n",
    ")\n",
    "\n",
    "characters.plot(kind='bar', x='Chapter', figsize=(14, 8))\n",
    "plt.ylabel('Mentions per 100 words in chapter');"
   ]
  },
  {
   "cell_type": "markdown",
   "metadata": {},
   "source": [
    "Looking at the bar chart, we see that the height of the bar for Dorothy in Chapter 1 is 1.62 and the y-axis of this graph is “Mentions per 100 words in chapter”. This means that 1.62 of every 100 words in Chapter 1 are `\"Dorothy\"`. In other words, $1.62\\%$ of the words in Chapter 1 are `\"Dorothy\"`."
   ]
  },
  {
   "cell_type": "markdown",
   "metadata": {},
   "source": [
    "**Question 1.1.**  The following sentences are the very first time Scarecrow, Tin Man (real name Tin Woodman), and the Lion are mentioned in the book, respectively:\n",
    "\n",
    "> There was a great cornfield beyond the fence, and not far away she saw a Scarecrow, placed high on a pole to keep the birds from the ripe corn.\n",
    "\n",
    "> \"Oil my neck, first,\" replied the Tin Woodman.\n",
    "\n",
    "> Just as he spoke there came from the forest a terrible roar, and the next moment a great Lion bounded into the road.\n",
    "\n",
    "Based on the above bar chart, which chapters are each of these sentences from? Assign the variables `scarecrow_debut`, `tin_man_debut`, `lion_debut` to an integer between 1 and 12."
   ]
  },
  {
   "cell_type": "code",
   "execution_count": null,
   "metadata": {},
   "outputs": [],
   "source": [
    "scarecrow_debut = ...\n",
    "tin_man_debut = ...\n",
    "lion_debut = ..."
   ]
  },
  {
   "cell_type": "code",
   "execution_count": null,
   "metadata": {
    "deletable": false,
    "editable": false
   },
   "outputs": [],
   "source": [
    "grader.check(\"q1_1\")"
   ]
  },
  {
   "cell_type": "markdown",
   "metadata": {},
   "source": [
    "**Question 1.2.** Dorothy is mentioned 38 times in Chapter 12. How many times is Lion mentioned in Chapter 12? Assign the variable `lion_mentioned` to 1, 2, 3, 4, or 5 corresponding to the answer choices below. Remember to input your answer as a **number from 1-5 corresponding to the option numbers below, and not to the number of times Lion is mentioned.** For example, if you think Lion is mentioned 13 times, you should set `lion_mentioned` to 5, not 13.\n",
    "\n",
    "1. 12 times\n",
    "1. 14 times\n",
    "1. 17 times\n",
    "1. 20 times\n",
    "1. 22 times"
   ]
  },
  {
   "cell_type": "code",
   "execution_count": null,
   "metadata": {},
   "outputs": [],
   "source": [
    "lion_mentioned = ..."
   ]
  },
  {
   "cell_type": "code",
   "execution_count": null,
   "metadata": {
    "deletable": false,
    "editable": false
   },
   "outputs": [],
   "source": [
    "grader.check(\"q1_2\")"
   ]
  },
  {
   "cell_type": "markdown",
   "metadata": {},
   "source": [
    "**Question 1.3.** Chapter 11 is quite long, as it is the chapter when the characters reach the Emerald City. For reference, Chapter 8 is 1764 words long while Chapter 11 is 3294 words long. Based on this information and the plot, which of the following is correct? Assign the variable `oz_part3` to 1, 2, 3, or 4.\n",
    "\n",
    "1. Scarecrow is mentioned more times in Chapter 8 than in Chapter 11. Tin Man is mentioned more times in Chapter 8 than in Chapter 11.\n",
    "1. Scarecrow is mentioned more times in Chapter 8 than in Chapter 11. Tin Man is mentioned fewer times in Chapter 8 than in Chapter 11.\n",
    "1. Scarecrow is mentioned fewer times in Chapter 8 than in Chapter 11. Tin Man is mentioned more times in Chapter 8 than in Chapter 11.\n",
    "1. Scarecrow is mentioned fewer times in Chapter 8 than in Chapter 11. Tin Man is mentioned fewer times in Chapter 8 than in Chapter 11."
   ]
  },
  {
   "cell_type": "code",
   "execution_count": null,
   "metadata": {},
   "outputs": [],
   "source": [
    "oz_part3 = ..."
   ]
  },
  {
   "cell_type": "code",
   "execution_count": null,
   "metadata": {
    "deletable": false,
    "editable": false
   },
   "outputs": [],
   "source": [
    "grader.check(\"q1_3\")"
   ]
  },
  {
   "cell_type": "markdown",
   "metadata": {},
   "source": [
    "**Question 1.4.** Which of the following is a valid conclusion we can make based off of the above plot alone? Assign `oz_part4` to 1, 2, 3, 4, or 5. There is only one correct answer.\n",
    "\n",
    "1. Lion is mentioned more times in Chapter 10 than he is in Chapter 6.\n",
    "\n",
    "1. The chapter that Tin Man is mentioned the most in is Chapter 12.\n",
    "\n",
    "1. Lion is mentioned roughly the same number of times in each of Chapters 6, 8, and 10.\n",
    "\n",
    "1. The chapter that Dorothy is mentioned the least in is Chapter 8.\n",
    "\n",
    "1. Scarecrow and Tin Man are mentioned roughly the same number of times in Chapter 6."
   ]
  },
  {
   "cell_type": "code",
   "execution_count": null,
   "metadata": {},
   "outputs": [],
   "source": [
    "oz_part4 = ..."
   ]
  },
  {
   "cell_type": "code",
   "execution_count": null,
   "metadata": {
    "deletable": false,
    "editable": false
   },
   "outputs": [],
   "source": [
    "grader.check(\"q1_4\")"
   ]
  },
  {
   "cell_type": "markdown",
   "metadata": {},
   "source": [
    "<font color=red>**🚨 Important**: The tests in this section only check that you selected one of the possible answer choices, not that you have selected the right one!. Unlike in labs, tests in homeworks **do not** check that you answered correctly; they only check that your answer is *reasonable*, or in the correct format. To put it another way: all of your tests might pass, but that doesn't mean you'll get full credit – some of your answers may still be wrong. It's up to you to make sure that they're right!<font color=red>"
   ]
  },
  {
   "cell_type": "markdown",
   "metadata": {},
   "source": [
    "## 2. Python Basics 🐍"
   ]
  },
  {
   "cell_type": "markdown",
   "metadata": {},
   "source": [
    "**Question 2.1.** When you run the following cell, Python produces a cryptic error message."
   ]
  },
  {
   "cell_type": "code",
   "execution_count": null,
   "metadata": {
    "tags": []
   },
   "outputs": [],
   "source": [
    "2024 = 2025 - 1.0"
   ]
  },
  {
   "cell_type": "markdown",
   "metadata": {},
   "source": [
    "Choose the best explanation of what's wrong with the code, and then assign 1, 2, 3, or 4 to `basics_1` below to indicate your answer.\n",
    "\n",
    "1. The left hand side is an `int`, while the right hand side is a `float`. The left side should be `2024.0` instead.\n",
    "\n",
    "1. The result should be written after the calculation. It should be `2025 - 1.0 = 2024`.\n",
    "\n",
    "1. This is trying to create a variable named `2024`, which doesn't make sense because `2024` is a number.\n",
    "\n",
    "1. Python is not able to subtract a `float` from an `int` because they are of different data types.\n"
   ]
  },
  {
   "cell_type": "markdown",
   "metadata": {},
   "source": [
    "<font color=red>**🚨 Important**: Once you have finished this question, \"comment\"  out the above code cell out by replacing it with `# 2024= 2025 - 1.0`. This will prevent the error message from appearing when your notebook is graded.</font>\n",
    "\n",
    "***Note:*** A shortcut for \"commenting\" out code is to highlight the code and press `command` or `control` and `/`."
   ]
  },
  {
   "cell_type": "code",
   "execution_count": null,
   "metadata": {
    "tags": []
   },
   "outputs": [],
   "source": [
    "basics_1 = ..."
   ]
  },
  {
   "cell_type": "code",
   "execution_count": null,
   "metadata": {
    "deletable": false,
    "editable": false
   },
   "outputs": [],
   "source": [
    "grader.check(\"q2_1\")"
   ]
  },
  {
   "cell_type": "markdown",
   "metadata": {},
   "source": [
    "**Question 2.2.** Consider the following poorly-written code."
   ]
  },
  {
   "cell_type": "code",
   "execution_count": null,
   "metadata": {
    "tags": []
   },
   "outputs": [],
   "source": [
    "two = 2\n",
    "three = 3\n",
    "two = two ** three\n",
    "two = three - two\n",
    "two = two * three\n",
    "two = two * two"
   ]
  },
  {
   "cell_type": "markdown",
   "metadata": {},
   "source": [
    "As this code executes, what values does the variable `two` take on? Assign 1, 2, 3, or 4 to `basics_2` to indicate your answer.\n",
    "\n",
    "1. The variable `two` takes on the values 2, 6, -3, -9, 81.\n",
    "\n",
    "1. The variable `two` takes on the values 2, 8, -5, -15, 225.\n",
    "\n",
    "1. The variable `two` takes on the values 2, 8, 1, 6, 4.\n",
    "\n",
    "1. The variable `two` takes on the values 2, 6, 1, 6, 4."
   ]
  },
  {
   "cell_type": "code",
   "execution_count": null,
   "metadata": {},
   "outputs": [],
   "source": [
    "basics_2 = ..."
   ]
  },
  {
   "cell_type": "code",
   "execution_count": null,
   "metadata": {
    "deletable": false,
    "editable": false
   },
   "outputs": [],
   "source": [
    "grader.check(\"q2_2\")"
   ]
  },
  {
   "cell_type": "markdown",
   "metadata": {},
   "source": [
    "## 3. Road Trip   🚘 "
   ]
  },
  {
   "cell_type": "markdown",
   "metadata": {},
   "source": [
    "Over Spring break, you plan on going on a road trip to Palm Springs with your friends Jason and Minchan. Before you go, you want to plan which route (Route A or Route B) and  whose car (Jason's or Minchan's) to take. Answer the questions below using Python to perform all the intermediate calculations such as adding, squaring, and dividing.\n",
    "\n",
    "<font color=red>**🚨 Important**: The `math` package has not been imported. You don't need it for this question, and you should not import it, otherwise the Gradescope autograder may error.</font>\n",
    "\n",
    "**Question 3.1.** First, you need to decide on the route. You plan to take the route for which the average speed is faster. \n",
    "\n",
    "For Route A, you will have to take 3 freeways, each with a different speed limit. Below is a table showing the speed limits (which we will assume is the speed you will travel at) and the time you will have to spend on each freeway on Route A.\n",
    "\n",
    "| Freeway | Speed Limit (miles per hour) | Time (hours)|\n",
    "| --- | --- | --- |\n",
    "| I-5 | 70 | 3 |\n",
    "| CA-73 | 55 | 2 |\n",
    "| CA-133 | 45 | 1 |\n",
    "\n",
    "Using this information, calculate the average speed, in miles per hour, if you take Route A, and assign your answer to the variable `route_A`. Recall from math and physics that the average speed is the total distance driven divided by the total time taken."
   ]
  },
  {
   "cell_type": "code",
   "execution_count": null,
   "metadata": {
    "tags": []
   },
   "outputs": [],
   "source": [
    "# Feel free to define intermediate variables to use in your solution.\n",
    "total_distance = ...\n",
    "total_time = ...\n",
    "route_A = ...\n",
    "route_A"
   ]
  },
  {
   "cell_type": "code",
   "execution_count": null,
   "metadata": {
    "deletable": false,
    "editable": false
   },
   "outputs": [],
   "source": [
    "grader.check(\"q3_1\")"
   ]
  },
  {
   "cell_type": "markdown",
   "metadata": {},
   "source": [
    "**Question 3.2.** Next, let's consider the other route you might take. For Route B, you will have to take 3 freeways, each with a different speed limit. Below is a table showing the speed limits (which we will assume is the speed you will travel at) and the *distance* you will need to travel on each freeway on Route B.\n",
    "\n",
    "| Freeway | Speed Limit (miles per hour) | Distance (miles)|\n",
    "| --- | --- | --- |\n",
    "| I-5 | 70 | 150 |\n",
    "| CA-57 | 65 | 110 |\n",
    "| CA-109 | 55 | 90 |\n",
    "\n",
    "Using this information, calculate the average speed, in miles per hour, if you take Route B, and assign your answer to the variable `route_B`.\n",
    "\n",
    "Note that the third column is `'Distance (miles)'`, not `'Time (hours)'`. Unlike in Question 3.1, you aren't given the amount of time you'll spend on each freeway; you need to compute these times yourself. To calculate the time it will take on each freeway, divide the distance for that freeway by the speed for that freeway. Finally, add up the times for each freeway to find the total time."
   ]
  },
  {
   "cell_type": "code",
   "execution_count": null,
   "metadata": {
    "tags": []
   },
   "outputs": [],
   "source": [
    "# Feel free to define intermediate variables to use in your solution.\n",
    "total_distance2 = ...\n",
    "total_time2 = ...\n",
    "\n",
    "route_B = ...\n",
    "route_B"
   ]
  },
  {
   "cell_type": "code",
   "execution_count": null,
   "metadata": {
    "deletable": false,
    "editable": false
   },
   "outputs": [],
   "source": [
    "grader.check(\"q3_2\")"
   ]
  },
  {
   "cell_type": "markdown",
   "metadata": {},
   "source": [
    "**Question 3.3.** Now it's time to decide whose car to take (Jason's or Minchan's). You decide to take the car with the biggest fuel tank. \n",
    "\n",
    "Unfortunately, Jason doesn't know the exact volume of his car's fuel tank, only that the tank has a height of 16 inches, a width of 12 inches, and a length of 32 inches. Minchan doesn't know the exact volume of his car's fuel tank either, but knows that his tank is in the shape of a cube. What is the length of one of the sides of Minchan's fuel tank (in inches) so that it stores the same amount of fuel as Jason's? Save your answer in the variable `side_length`."
   ]
  },
  {
   "cell_type": "code",
   "execution_count": null,
   "metadata": {},
   "outputs": [],
   "source": [
    "# Feel free to define intermediate variables to use in your solution.\n",
    "side_length = ...\n",
    "side_length"
   ]
  },
  {
   "cell_type": "code",
   "execution_count": null,
   "metadata": {
    "deletable": false,
    "editable": false
   },
   "outputs": [],
   "source": [
    "grader.check(\"q3_3\")"
   ]
  },
  {
   "cell_type": "markdown",
   "metadata": {},
   "source": [
    "In this problem, though you calculated three different quantities in three different ways, all of your results are actually considered **means**, of various kinds!\n",
    "\n",
    "In Question 3.1, given $n$ values $x_1, x_2, ..., x_n$, you found an *arithmetic mean*, using the formula\n",
    "\n",
    "$${x_1+x_2+...+x_n \\over n},$$\n",
    "\n",
    "where the numerator represented total distance and the denominator represented total time. An arithmetic mean is the usual type of mean or average you're used to seeing. It turns out that you actually computed a more sophisticated arithmetic mean, known as a _weighted arithmetic mean_, \n",
    "\n",
    "$$\\frac{w_1 x_1 + w_2 x_2 + ... + w_n x_n}{w_1 + w_2 + ... + w_n},$$\n",
    "\n",
    "where the weights $w_1, w_2, w_3$ were the times on each freeway.\n",
    "\n",
    "In Question 3.2, given  $n$ values $x_1, x_2, ..., x_n$, you found a *harmonic mean*, using the formula\n",
    "\n",
    "$${n \\over {{1 \\over x_1}+{1 \\over x_2}+ ... + {1 \\over x_n}}},$$ \n",
    "\n",
    "\n",
    "where the numerator represented total distance and the denominator represented total time. To calculate the total time, you needed to sum the time taken for each part of the trip, calculated using the fact that time is distance over speed. Again, it turns out that you actually computed the _weighted harmonic mean_, but this time the weights were the distances on each of the freeways. If you're curious, see the formula [here](https://en.wikipedia.org/wiki/Harmonic_mean#Weighted_harmonic_mean).\n",
    "\n",
    "Finally in Question 3.3, given $n$ values $x_1, x_2, ..., x_n$, you found a *geometric mean*, using the formula \n",
    "\n",
    "$${\\sqrt[n]{x_1 \\cdot x_2 \\cdot ... \\cdot x_n}},$$ \n",
    "\n",
    "where each value represented a dimension of the fuel tank. \n",
    "\n",
    "As you can see, there are many different notions of the mean. You'll learn about some of them if you take DSC 40A!"
   ]
  },
  {
   "cell_type": "markdown",
   "metadata": {},
   "source": [
    "## 4. Sugar Coded 🍬"
   ]
  },
  {
   "cell_type": "markdown",
   "metadata": {},
   "source": [
    "In this question, we want to compare the weekly intake of sweetened beverages among children in different household food situations. The data below comes from the CDC’s [Factors Associated with Sugar-Sweetened Beverage Intake Among Young Children - United States, 2021](https://www.cdc.gov/pcd/issues/2024/23_0354.htm#tables). The numbers in the table show the **percentage** of children in each household food situation that fall into each category, which represent different amounts of intake of sugar beverages; note that each row sums to 100.\n",
    "\n",
    "| Household Food Situation   |   Zero times a week |   A few times a week |   Many times a week |\n",
    "|:---------------------------|--------------------:|---------------------:|--------------------:|\n",
    "| Food sufficient            |                46.8 |                 36.1 |                17.1 |\n",
    "| Marginal food sufficiency  |                30.8 |                 37.1 |                32.1 |\n",
    "| Low food sufficiency       |                28.5 |                 35.3 |                36.2 |\n",
    "\n",
    "We define the **dissimilarity** between two household food situation groups as the largest absolute difference between their three respective percentages.\n",
    "\n",
    "To better understand dissimilarity, consider the following hypothetical situation, where we compare the weekly beverage intake between Group A and Group B. Suppose:\n",
    "* Group A's sweetened beverage intake of *zero times a week* is **10 percent more** than Group B's.\n",
    "* Group A's sweetened beverage intake of *a few times a week* is **4 percent less** than Group B's.\n",
    "* Group A's sweetened beverage intake of *many times a week* is **7 percent less** than Group B's.\n",
    "\n",
    "Then, we would say the dissimilarity between Group A and Group B is 10, since 10 is larger than both 4 and 7."
   ]
  },
  {
   "cell_type": "markdown",
   "metadata": {},
   "source": [
    "**Question 4.1.** \n",
    "Using this method, compute the dissimilarity between the following two groups: food sufficient and marginal food sufficiency. Assign the result to the variable `dissimilarity`. Use a single expression (a single line of code) to compute the answer. Let Python perform all the arithmetic (like subtracting) rather than calculating the expression yourself. \n",
    "\n",
    "**_Hint:_**  The built-in `abs` function computes absolute values. "
   ]
  },
  {
   "cell_type": "code",
   "execution_count": null,
   "metadata": {
    "tags": []
   },
   "outputs": [],
   "source": [
    "dissimilarity = ...\n",
    "dissimilarity"
   ]
  },
  {
   "cell_type": "code",
   "execution_count": null,
   "metadata": {
    "deletable": false,
    "editable": false
   },
   "outputs": [],
   "source": [
    "grader.check(\"q4_1\")"
   ]
  },
  {
   "cell_type": "markdown",
   "metadata": {},
   "source": [
    "**Question 4.2.** Which pair of groups is **most** dissimilar, according to this measurement? Assign either 1, 2, or 3 to the variable `most_dissimilar` below. Check whether your answer matches up with your intuition.\n",
    "\n",
    "1. Food sufficient and marginal food sufficiency\n",
    "1. Food sufficient and low food sufficiency\n",
    "1. Marginal food sufficiency and low food sufficiency"
   ]
  },
  {
   "cell_type": "code",
   "execution_count": null,
   "metadata": {
    "tags": []
   },
   "outputs": [],
   "source": [
    "most_dissimilar = ..."
   ]
  },
  {
   "cell_type": "code",
   "execution_count": null,
   "metadata": {
    "deletable": false,
    "editable": false
   },
   "outputs": [],
   "source": [
    "grader.check(\"q4_2\")"
   ]
  },
  {
   "cell_type": "markdown",
   "metadata": {},
   "source": [
    "**Question 4.3.** Suppose instead of measuring intake with three categories (zero times a week, a few times a week, and many times a week), the researchers had instead measured weekly intake with two categories (zero times a week and at least once a week, where at least once a week includes a few times a week and many times a week). Between which two household food situation groups would the dissimilarity **not** change if we measured weekly intake with two categories instead of three? Assign either 1, 2, 3, or 4 to the variable `would_not_change` below. Feel free to add some cells and do any calculations you need to do right within this notebook.\n",
    "\n",
    "1. Food sufficient and marginal food sufficiency\n",
    "1. Food sufficient and low food sufficiency\n",
    "1. Marginal food sufficiency and low food sufficiency\n",
    "1. All of the above"
   ]
  },
  {
   "cell_type": "code",
   "execution_count": null,
   "metadata": {
    "tags": []
   },
   "outputs": [],
   "source": [
    "would_not_change = ..."
   ]
  },
  {
   "cell_type": "code",
   "execution_count": null,
   "metadata": {
    "deletable": false,
    "editable": false
   },
   "outputs": [],
   "source": [
    "grader.check(\"q4_3\")"
   ]
  },
  {
   "cell_type": "markdown",
   "metadata": {},
   "source": [
    "## 5. Arrays 🗃️"
   ]
  },
  {
   "cell_type": "markdown",
   "metadata": {},
   "source": [
    "**Question 5.1.** Make an array called `quirky_numbers` containing the following numbers (in the given order):\n",
    "\n",
    "1. The square root of 53\n",
    "1. 49 degrees, in radians\n",
    "1. $\\frac{5^3 + 7^3}{1000}$\n",
    "1. The mathematical constant $\\pi$ divided by 8 (that is, $\\frac{\\pi}{8}$)\n",
    "1. The natural logarithm of 66\n",
    "\n",
    "<font color=red>**🚨 Important**: The `math` package has not been imported. You don't need it for this question, and you should not import it, otherwise the Gradescope autograder may error.</font>\n",
    "\n",
    "**_Hint:_**  Check out the functions and constants available in the `numpy` module, which has been imported as `np`. If you're unsure of what function to use, a quick Google search should do the trick. Do **not** round any of the values in the array. \n",
    "\n",
    "**_Note:_**  In this problem, as with all others, we'll only check that your answer is correct. There may be several valid ways to produce the correct answer."
   ]
  },
  {
   "cell_type": "code",
   "execution_count": null,
   "metadata": {
    "tags": []
   },
   "outputs": [],
   "source": [
    "quirky_numbers = ...\n",
    "quirky_numbers"
   ]
  },
  {
   "cell_type": "code",
   "execution_count": null,
   "metadata": {
    "deletable": false,
    "editable": false
   },
   "outputs": [],
   "source": [
    "grader.check(\"q5_1\")"
   ]
  },
  {
   "cell_type": "markdown",
   "metadata": {
    "deletable": false,
    "editable": false
   },
   "source": [
    "**Question 5.2.** Make an array called `likes` containing the following three strings, in the specified order:\n",
    "- `'I like camping'`\n",
    "- `'bears'`\n",
    "- `'and coffee.'`\n",
    "\n",
    "<!--\n",
    "BEGIN QUESTION\n",
    "name: q5_2\n",
    "-->"
   ]
  },
  {
   "cell_type": "code",
   "execution_count": null,
   "metadata": {
    "tags": []
   },
   "outputs": [],
   "source": [
    "likes = ...\n",
    "likes"
   ]
  },
  {
   "cell_type": "code",
   "execution_count": null,
   "metadata": {
    "deletable": false,
    "editable": false
   },
   "outputs": [],
   "source": [
    "grader.check(\"q5_2\")"
   ]
  },
  {
   "cell_type": "markdown",
   "metadata": {},
   "source": [
    "<center><img src=images/bear.webp width=300>\n",
    "<br>\n",
    "<a href=https://www.npr.org/2023/08/07/1192455516/hank-the-tank-bear-lake-tahoe>'Hank the Tank,' the bear behind 21 home invasions, has been captured near Lake Tahoe</a></center>\n",
    "\n",
    "\n",
    "In [Lecture 2](https://dsc10.com/resources/lectures/lec02/lec02.html#String-methods), we looked at several string methods, like `upper` and `replace`. Strings have another method that we haven't seen yet, called `join`. `join` takes one argument, an array of strings, and it returns a single string. Specifically, `some_string.join(some_array)` evaluates to a new string consisting of all of elements in `some_array`, with `some_string` inserted **in between each element**.\n",
    "\n",
    "For example, `'-'.join(np.array(['call', '858', '534', '2230']))` evaluates to `'call-858-534-2230'`.\n",
    "\n",
    "**Question 5.3.** Use the array `likes` and the method `join` to make two strings:\n",
    "\n",
    "1. `'I like camping, bears, and coffee.'` (call this one `by_comma`)\n",
    "1. `'I like camping bears and coffee.'` (call this one `by_space`)"
   ]
  },
  {
   "cell_type": "code",
   "execution_count": null,
   "metadata": {
    "scrolled": true,
    "tags": []
   },
   "outputs": [],
   "source": [
    "by_comma = ...\n",
    "by_space = ...\n",
    "\n",
    "# Don't change the lines below.\n",
    "print(by_comma)\n",
    "print(by_space)"
   ]
  },
  {
   "cell_type": "code",
   "execution_count": null,
   "metadata": {
    "deletable": false,
    "editable": false
   },
   "outputs": [],
   "source": [
    "grader.check(\"q5_3\")"
   ]
  },
  {
   "cell_type": "markdown",
   "metadata": {},
   "source": [
    "Now let's get some practice accessing individual elements of arrays.  In Python (and in many programming languages), elements are accessed by *integer position*, with the position of the first element being zero. That's probably not the way you learned to count, so it's easy to get mixed up here. Be careful!"
   ]
  },
  {
   "cell_type": "markdown",
   "metadata": {},
   "source": [
    "**Question 5.4.** The cell below creates an array of strings."
   ]
  },
  {
   "cell_type": "code",
   "execution_count": null,
   "metadata": {
    "scrolled": true,
    "tags": []
   },
   "outputs": [],
   "source": [
    "some_strings = np.array(['desserts', '🧁', '🍰', '🍦', 'fox', '🦊', 'frog', '🐸'])\n",
    "some_strings"
   ]
  },
  {
   "cell_type": "markdown",
   "metadata": {},
   "source": [
    "What is the integer position of `'🦊'` in the array? You can just type in the answer, which should be of type `int`. This is a conceptual question, not a coding question.\n",
    "\n",
    "**_Note:_**  Your answer should be a **positive** integer!"
   ]
  },
  {
   "cell_type": "code",
   "execution_count": null,
   "metadata": {
    "tags": []
   },
   "outputs": [],
   "source": [
    "fox_position = ...\n",
    "fox_position"
   ]
  },
  {
   "cell_type": "code",
   "execution_count": null,
   "metadata": {
    "deletable": false,
    "editable": false
   },
   "outputs": [],
   "source": [
    "grader.check(\"q5_4\")"
   ]
  },
  {
   "cell_type": "markdown",
   "metadata": {},
   "source": [
    "**Question 5.5.** Suppose you have an array with 247 elements. What is the integer position of the third-to-last element in this array? You can just type in the answer, which should be of type `int`. This is a conceptual question, not a coding question.\n",
    "\n",
    "**_Note:_**  Again, your answer should be a **positive** integer!"
   ]
  },
  {
   "cell_type": "code",
   "execution_count": null,
   "metadata": {
    "scrolled": true,
    "tags": []
   },
   "outputs": [],
   "source": [
    "third_last_position = ...\n",
    "third_last_position"
   ]
  },
  {
   "cell_type": "code",
   "execution_count": null,
   "metadata": {
    "deletable": false,
    "editable": false
   },
   "outputs": [],
   "source": [
    "grader.check(\"q5_5\")"
   ]
  },
  {
   "cell_type": "markdown",
   "metadata": {},
   "source": [
    "**Question 5.6.** Suppose you have an array with 687 elements. At what integer position is the middle element of this array? You can just type in the answer, which should be of type `int`. This is a conceptual question, not a coding question.\n",
    "\n",
    "**_Note:_**  Again, your answer should be a **positive** integer!"
   ]
  },
  {
   "cell_type": "code",
   "execution_count": null,
   "metadata": {
    "tags": []
   },
   "outputs": [],
   "source": [
    "mid_position = ...\n",
    "mid_position"
   ]
  },
  {
   "cell_type": "code",
   "execution_count": null,
   "metadata": {
    "deletable": false,
    "editable": false
   },
   "outputs": [],
   "source": [
    "grader.check(\"q5_6\")"
   ]
  },
  {
   "cell_type": "markdown",
   "metadata": {},
   "source": [
    "By the way, it's also possible to use negative integer positions to access elements in an array, which can be easier than using positive integer positions sometimes.  If a position is negative, you count from the end of the array rather than from the beginning. Position -1 corresponds to the last element, -2 corresponds to the second-to-last element, and so on. For instance, to find the third-to-last element of `some_strings`, we could use:"
   ]
  },
  {
   "cell_type": "code",
   "execution_count": null,
   "metadata": {
    "scrolled": true,
    "tags": []
   },
   "outputs": [],
   "source": [
    "some_strings[-3]"
   ]
  },
  {
   "cell_type": "markdown",
   "metadata": {},
   "source": [
    "**Question 5.7.** Let's say you are trying create an online [multiplication table](https://en.wikipedia.org/wiki/Multiplication_table#Modern_times) for an elementary school. Using the function `np.arange()`, make an array called `multiples_of_10` which contains all the multiples of 10, in ascending order, that appear on the multiplication table below. \n",
    "\n",
    "It's also a good exercise to think about how your code would change if you wanted the multiples of $k$, for some other value of $k$ besides 10.\n",
    "\n",
    "<center>\n",
    "    <br>\n",
    "    <img src=images/mult.jpg width=500>\n",
    "</center>"
   ]
  },
  {
   "cell_type": "code",
   "execution_count": null,
   "metadata": {},
   "outputs": [],
   "source": [
    "multiples_of_10 = ...\n",
    "multiples_of_10"
   ]
  },
  {
   "cell_type": "code",
   "execution_count": null,
   "metadata": {
    "deletable": false,
    "editable": false
   },
   "outputs": [],
   "source": [
    "grader.check(\"q5_7\")"
   ]
  },
  {
   "cell_type": "markdown",
   "metadata": {},
   "source": [
    "## 6. DSC 10 Enrollments 📈"
   ]
  },
  {
   "cell_type": "markdown",
   "metadata": {},
   "source": [
    "In this question, we'll look at enrollment data from the Fall 2024 and Winter 2025 offerings of DSC 10. The third column of the table below shows how many UCSD undergraduate students in the **current** offering of DSC 10 come from each of the university's eight colleges. It looks like Sixth College is the most popular, with 45 students. The last column shows how many of those students are DSC majors. Even though Sixth College is the most popular, none of the DSC 10 students from the college are DSC majors!\n",
    "\n",
    "For comparison's sake, we also have the corresponding data from last fall's offering of DSC 10. What differences do you see?\n",
    "\n",
    "Throughout this problem, we'll assume that all students in DSC 10 come from one of the eight colleges in the table. We've excluded graduate students, exchange students, etc.\n",
    "\n",
    "|           |   Fall 2024 Students |   Fall 2024 DSC Major Students |   Winter 2025 Students |   Winter 2025 DSC Major Students |\n",
    "|:----------|---------------------:|-------------------------------:|-----------------------:|---------------------------------:|\n",
    "| Eighth    |                   28 |                             24 |                     14 |                                0 |\n",
    "| Seventh   |                   56 |                             42 |                     44 |                                1 |\n",
    "| Sixth     |                   87 |                             69 |                     45 |                                0 |\n",
    "| Roosevelt |                   50 |                             28 |                     22 |                                1 |\n",
    "| Warren    |                   71 |                             53 |                     35 |                                2 |\n",
    "| Marshall  |                   49 |                             32 |                     32 |                                2 |\n",
    "| Muir      |                   59 |                             48 |                     23 |                                0 |\n",
    "| Revelle   |                   38 |                             28 |                     24 |                                1 |\n",
    "\n",
    "In this problem, we'll be working with the data from this table as *arrays*. Here are those arrays:"
   ]
  },
  {
   "cell_type": "code",
   "execution_count": null,
   "metadata": {
    "scrolled": true
   },
   "outputs": [],
   "source": [
    "students_24 = np.array([28, 56, 87, 50, 71, 49, 59, 38])\n",
    "students_24"
   ]
  },
  {
   "cell_type": "code",
   "execution_count": null,
   "metadata": {},
   "outputs": [],
   "source": [
    "majors_24 = np.array([24, 42, 69, 28, 53, 32, 48, 28])\n",
    "majors_24"
   ]
  },
  {
   "cell_type": "code",
   "execution_count": null,
   "metadata": {},
   "outputs": [],
   "source": [
    "students_25 = np.array([14, 44, 45, 22, 35, 32, 23, 24])\n",
    "students_25"
   ]
  },
  {
   "cell_type": "code",
   "execution_count": null,
   "metadata": {},
   "outputs": [],
   "source": [
    "majors_25 = np.array([0, 1, 0, 1, 2, 2, 0, 1])\n",
    "majors_25"
   ]
  },
  {
   "cell_type": "markdown",
   "metadata": {},
   "source": [
    "Remember, the `numpy` package (`np` for short) provides many handy functions for working with arrays. These are specifically designed to work with arrays and are faster than using Python's built-in functions. \n",
    "\n",
    "Some frequently used array functions are `np.min`, `np.max`, `np.sum`, `np.abs`, and `np.round`. There are many more, which you can browse by typing `np.` into a code cell and hitting the `tab` key. These are all in addition to array methods, which we access using dot notation. (For instance, both the numpy function `np.max(arr)` and the array method `arr.max()` return the largest element in the array `arr`.)"
   ]
  },
  {
   "cell_type": "markdown",
   "metadata": {},
   "source": [
    "**Question 6.1.** Assign `enrolled_24` and `enrolled_25` to the number of students that were enrolled in DSC 10 in Fall 2024 and Winter 2025, respectively."
   ]
  },
  {
   "cell_type": "code",
   "execution_count": null,
   "metadata": {},
   "outputs": [],
   "source": [
    "enrolled_24 = ...\n",
    "enrolled_25 = ...\n",
    "\n",
    "# Don't change the lines below.\n",
    "print('Students in Fall 2024:', enrolled_24)\n",
    "print('Students in Winter 2025:', enrolled_25)"
   ]
  },
  {
   "cell_type": "code",
   "execution_count": null,
   "metadata": {
    "deletable": false,
    "editable": false
   },
   "outputs": [],
   "source": [
    "grader.check(\"q6_1\")"
   ]
  },
  {
   "cell_type": "markdown",
   "metadata": {},
   "source": [
    "**Question 6.2.** How many non-DSC major students from each of the eight colleges were in the Fall 2024 offering of DSC 10? Your answer should be an array called `non_majors_24`, with the colleges in the same order as they appear in the table above. For instance, the first element of `non_majors_24` should be the number of non-DSC majors in the Fall 2024 offering of DSC 10 who were in Eighth College."
   ]
  },
  {
   "cell_type": "code",
   "execution_count": null,
   "metadata": {},
   "outputs": [],
   "source": [
    "non_majors_24 = ...\n",
    "non_majors_24"
   ]
  },
  {
   "cell_type": "code",
   "execution_count": null,
   "metadata": {
    "deletable": false,
    "editable": false
   },
   "outputs": [],
   "source": [
    "grader.check(\"q6_2\")"
   ]
  },
  {
   "cell_type": "markdown",
   "metadata": {},
   "source": [
    "**Question 6.3.** What percentage of Fall 2024 DSC 10 students from each college were DSC majors? Your answer should be an array called `percent_majors_24`, with the colleges in the same order as they appear in the table above, and with percentages rounded to two decimal places. Store each percentage as a number without the `%` symbol."
   ]
  },
  {
   "cell_type": "code",
   "execution_count": null,
   "metadata": {},
   "outputs": [],
   "source": [
    "percent_majors_24 = ...\n",
    "percent_majors_24"
   ]
  },
  {
   "cell_type": "code",
   "execution_count": null,
   "metadata": {
    "deletable": false,
    "editable": false
   },
   "outputs": [],
   "source": [
    "grader.check(\"q6_3\")"
   ]
  },
  {
   "cell_type": "markdown",
   "metadata": {},
   "source": [
    "## 7. Analyzing Bob Ross Paintings 🎨"
   ]
  },
  {
   "cell_type": "markdown",
   "metadata": {},
   "source": [
    "<center><img src=\"./images/bob_ross.jpg\" width = 400/></center>\n",
    "\n",
    "Bob Ross was an iconic American landscape painter, most well-known for hosting an instructional television show in the 80s and 90s called *The Joy of Painting*. In each episode, Bob Ross taught viewers to paint a different landscape picture while encouraging them to bring out \"the artist hidden in the bottom of every single one of us.\" The file `data/bob_ross.csv` contains information on individual elements seen within Bob Ross' paintings across 403 episodes. For example, in [Season 1, Episode 1](https://www.youtube.com/watch?v=oh5p5f5_-7A), Bob shows how to create the painting below, titled \"A Walk in the Woods\".\n",
    "\n",
    "&nbsp;\n",
    "<center><img src=\"./images/bob_ross_s1_painting.png\" width = 400/></center>"
   ]
  },
  {
   "cell_type": "markdown",
   "metadata": {},
   "source": [
    "**Question 7.1.** Read this file into a DataFrame called `bob_ross`. "
   ]
  },
  {
   "cell_type": "code",
   "execution_count": null,
   "metadata": {},
   "outputs": [],
   "source": [
    "bob_ross = ...\n",
    "bob_ross"
   ]
  },
  {
   "cell_type": "code",
   "execution_count": null,
   "metadata": {
    "deletable": false,
    "editable": false
   },
   "outputs": [],
   "source": [
    "grader.check(\"q7_1\")"
   ]
  },
  {
   "cell_type": "markdown",
   "metadata": {},
   "source": [
    "This dataset contains 403 rows and 71 columns. Each column contains a different element that may or may not appear in a painting. The dataset uses the number 1 to mean that the element is included in the painting, and 0 if not. Notice, for example, that in Season 1, Episode 1, the dataset records a 1 for `'TREES'` and a 0 for `'WINDMILL'`, which corresponds to what we see in the painting shown above.\n",
    "\n",
    "It's hard to tell which different painting elements are included in our dataset, because the DataFrame above displays with an ellipsis (...) truncating the dataset in between the columns `'BRIDGE'` and `'TOMB_FRAME'`. This is because the `babypandas` display settings default to showing a maximum of 20 columns, the first 10 and the last 10. \n",
    "\n",
    "If you want to see the names of all the columns, you can run the cell below. "
   ]
  },
  {
   "cell_type": "code",
   "execution_count": null,
   "metadata": {},
   "outputs": [],
   "source": [
    "bob_ross.columns"
   ]
  },
  {
   "cell_type": "markdown",
   "metadata": {},
   "source": [
    "**Question 7.2.** Examine the columns `'EPISODE'`, `'SEASON'`, and `'EPISODE_NUMBER'` and consider which would be the best choice of index for this DataFrame. Change the `bob_ross` DataFrame so that it's indexed by this value instead of the default index."
   ]
  },
  {
   "cell_type": "code",
   "execution_count": null,
   "metadata": {},
   "outputs": [],
   "source": [
    "bob_ross = ...\n",
    "bob_ross"
   ]
  },
  {
   "cell_type": "code",
   "execution_count": null,
   "metadata": {
    "deletable": false,
    "editable": false
   },
   "outputs": [],
   "source": [
    "grader.check(\"q7_2\")"
   ]
  },
  {
   "cell_type": "markdown",
   "metadata": {},
   "source": [
    "***Note:*** Try running the cell where you set the index a second time. You should see an error message. Can you figure out what the error message means and why that's happening? If not, try asking Google - that's a great first step when you come across an error that you don't understand. If Google doesn't help, feel free to ask a classmate or the staff on Ed.\n",
    "\n",
    "When you submit your work for autograding, the entire notebook will be run from start to finish. Each cell will run only once, so it's no problem if your code errors on the second run. In this case, it means you're doing something right!"
   ]
  },
  {
   "cell_type": "markdown",
   "metadata": {},
   "source": [
    "**Question 7.3.** Throughout all 31 seasons, how many of Bob’s paintings contained an ocean? Assign your result to `ocean`. "
   ]
  },
  {
   "cell_type": "code",
   "execution_count": null,
   "metadata": {},
   "outputs": [],
   "source": [
    "ocean = ...\n",
    "ocean"
   ]
  },
  {
   "cell_type": "code",
   "execution_count": null,
   "metadata": {
    "deletable": false,
    "editable": false
   },
   "outputs": [],
   "source": [
    "grader.check(\"q7_3\")"
   ]
  },
  {
   "cell_type": "markdown",
   "metadata": {},
   "source": [
    "**Question 7.4.** What was the first episode in which a lighthouse was painted? Assign your result to `first_lighthouse` as a string in the form `'S__E__'`. For example, if your answer is Season 1 Episode 1 then your answer should be `'S01E01'`. "
   ]
  },
  {
   "cell_type": "code",
   "execution_count": null,
   "metadata": {},
   "outputs": [],
   "source": [
    "first_lighthouse = ...\n",
    "first_lighthouse"
   ]
  },
  {
   "cell_type": "code",
   "execution_count": null,
   "metadata": {
    "deletable": false,
    "editable": false
   },
   "outputs": [],
   "source": [
    "grader.check(\"q7_4\")"
   ]
  },
  {
   "cell_type": "markdown",
   "metadata": {},
   "source": [
    "**Question 7.5.** Which episode titles include paintings of a `'MOUNTAIN'`? Create an *array* called `mountain_episodes` containing the titles of all such episodes. Then assign to `num_mountain_episodes` the number of such episodes.\n",
    "\n",
    "***Hint:*** To convert a Series into an array, call the function `np.array` on the Series."
   ]
  },
  {
   "cell_type": "code",
   "execution_count": null,
   "metadata": {},
   "outputs": [],
   "source": [
    "mountain_episodes = ...\n",
    "num_mountain_episodes = ...\n",
    "num_mountain_episodes"
   ]
  },
  {
   "cell_type": "code",
   "execution_count": null,
   "metadata": {
    "deletable": false,
    "editable": false
   },
   "outputs": [],
   "source": [
    "grader.check(\"q7_5\")"
   ]
  },
  {
   "cell_type": "markdown",
   "metadata": {},
   "source": [
    "**Question 7.6.** What proportion of all the paintings with a `'RIVER'` have **both** a `'WATERFALL'` and `'GRASS'`? Assign your result to the variable `river`.  Remember, proportions are always between 0 and 1.\n",
    "\n",
    "***Hint:*** You'll need to use multiple conditions in order to solve this problem. [Section 10](https://notes.dsc10.com/02-data_sets/querying.html) in the course notes will be very useful. "
   ]
  },
  {
   "cell_type": "code",
   "execution_count": null,
   "metadata": {},
   "outputs": [],
   "source": [
    "river = ...\n",
    "river"
   ]
  },
  {
   "cell_type": "code",
   "execution_count": null,
   "metadata": {
    "deletable": false,
    "editable": false
   },
   "outputs": [],
   "source": [
    "grader.check(\"q7_6\")"
   ]
  },
  {
   "cell_type": "markdown",
   "metadata": {},
   "source": [
    "**Question 7.7.** For the paintings in Season 1, calculate the average number of elements in each painting. Assign this average to the variable `season1_average`."
   ]
  },
  {
   "cell_type": "code",
   "execution_count": null,
   "metadata": {},
   "outputs": [],
   "source": [
    "season1_average = ...\n",
    "season1_average"
   ]
  },
  {
   "cell_type": "code",
   "execution_count": null,
   "metadata": {
    "deletable": false,
    "editable": false
   },
   "outputs": [],
   "source": [
    "grader.check(\"q7_7\")"
   ]
  },
  {
   "cell_type": "markdown",
   "metadata": {},
   "source": [
    "**Question 7.8.** Create an array called `ranked_seasons` containing the season numbers (1 through 31) ordered in **descending** order according to the average number of elements in paintings from that season. Each element of `ranked_seasons` should be an `int`.\n",
    "\n",
    "***Hint:*** After doing some grouping and sorting, you'll want to grab the index of the DataFrame using `.index`, then convert it to an array by feeding it in as an input to `np.array`."
   ]
  },
  {
   "cell_type": "code",
   "execution_count": null,
   "metadata": {},
   "outputs": [],
   "source": [
    "ranked_seasons = ...\n",
    "ranked_seasons"
   ]
  },
  {
   "cell_type": "code",
   "execution_count": null,
   "metadata": {
    "deletable": false,
    "editable": false
   },
   "outputs": [],
   "source": [
    "grader.check(\"q7_8\")"
   ]
  },
  {
   "cell_type": "markdown",
   "metadata": {},
   "source": [
    "## Finish Line: Almost there, but make sure to follow the steps below to submit! 🏁\n",
    "\n",
    "**_Citations:_** Did you use any generative artificial intelligence tools to assist you on this assignment? If so, please state, for each tool you used, the name of the tool (ex. ChatGPT) and the problem(s) in this assignment where you used the tool for help."
   ]
  },
  {
   "cell_type": "markdown",
   "metadata": {},
   "source": [
    "<hr style=\"color:Maroon;background-color:Maroon;border:0 none; height: 3px;\">\n",
    "\n",
    "Please cite tools here.\n",
    "\n",
    "<hr style=\"color:Maroon;background-color:Maroon;border:0 none; height: 3px;\">"
   ]
  },
  {
   "cell_type": "markdown",
   "metadata": {},
   "source": [
    "To submit your assignment:\n",
    "\n",
    "1. Make sure to comment out the code in Question 2.1 that causes an error.\n",
    "1. Select `Kernel -> Restart & Run All` to ensure that you have executed all cells, including the test cells. \n",
    "1. Read through the notebook to make sure all cells ran and all tests passed.\n",
    "1. Run the cell below to run all tests, and make sure that they all pass.\n",
    "1. Download your notebook using `File -> Download as -> Notebook (.ipynb)`, then upload your notebook to Gradescope.\n",
    "1. Stick around while the Gradescope autograder grades your work. Make sure you see that all tests have passed on Gradescope.\n",
    "1. Check that you have a confirmation email from Gradescope and save it as proof of your submission. \n",
    "\n",
    "With homeworks, unlike with labs, the grade you see on Gradescope is **not your final score**. We will run correctness tests after the assignment's due date has passed."
   ]
  },
  {
   "cell_type": "code",
   "execution_count": null,
   "metadata": {
    "scrolled": true
   },
   "outputs": [],
   "source": [
    "grader.check_all()"
   ]
  }
 ],
 "metadata": {
  "kernelspec": {
   "display_name": "Python (dsc10)",
   "language": "python",
   "name": "dsc10"
  },
  "language_info": {
   "codemirror_mode": {
    "name": "ipython",
    "version": 3
   },
   "file_extension": ".py",
   "mimetype": "text/x-python",
   "name": "python",
   "nbconvert_exporter": "python",
   "pygments_lexer": "ipython3",
   "version": "3.8.20"
  }
 },
 "nbformat": 4,
 "nbformat_minor": 4
}
