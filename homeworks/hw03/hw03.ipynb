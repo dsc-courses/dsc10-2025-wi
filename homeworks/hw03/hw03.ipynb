{
 "cells": [
  {
   "cell_type": "markdown",
   "metadata": {},
   "source": [
    "# Homework 3: DataFrames, Control Flow, and Probability\n",
    "\n",
    "## Due Tuesday, February 4th at 11:59PM\n",
    "\n",
    "Welcome to Homework 3! This homework will cover lots of different topics:\n",
    "- Grouping with subgroups (see [BPD 11](https://notes.dsc10.com/02-data_sets/groupby.html#subgroups))\n",
    "- Merging DataFrames (see [BPD 13](https://notes.dsc10.com/02-data_sets/merging.html))\n",
    "- Conditional statements (see [CIT 9.1](https://inferentialthinking.com/chapters/09/1/Conditional_Statements.html))\n",
    "- Iteration (see [CIT 9.2](https://inferentialthinking.com/chapters/09/2/Iteration.html))\n",
    "- Probability (see [CIT 9.5](https://inferentialthinking.com/chapters/09/5/Finding_Probabilities.html))"
   ]
  },
  {
   "cell_type": "markdown",
   "metadata": {},
   "source": [
    "### Instructions\n",
    "\n",
    "Remember to start early and submit often. You are given six slip days throughout the quarter to extend deadlines. See the syllabus for more details. With the exception of using slip days, late work will not be accepted unless you have made special arrangements with your instructor.\n",
    "\n",
    "**Important**: For homeworks, the `otter` tests don't usually tell you that your answer is correct. More often, they help catch careless mistakes. It's up to you to ensure that your answer is correct. If you're not sure, ask someone (not for the answer, but for some guidance about your approach). These are great questions for office hours (the schedule can be found [here](https://dsc10.com/calendar)) or Ed. Directly sharing answers is not okay, but discussing problems with the course staff or with other students is encouraged. "
   ]
  },
  {
   "cell_type": "code",
   "execution_count": null,
   "metadata": {
    "tags": []
   },
   "outputs": [],
   "source": [
    "# Please don't change this cell, but do make sure to run it.\n",
    "import babypandas as bpd\n",
    "import matplotlib.pyplot as plt\n",
    "plt.style.use('ggplot')\n",
    "plt.rcParams['figure.figsize'] = (10, 5)\n",
    "\n",
    "import numpy as np\n",
    "import otter\n",
    "grader = otter.Notebook()\n",
    "\n",
    "# We need to import some extra packages for some fun demonstrations.\n",
    "from ipywidgets import interact, widgets\n",
    "from IPython.display import YouTubeVideo, HTML, display, clear_output, Image, IFrame"
   ]
  },
  {
   "cell_type": "markdown",
   "metadata": {},
   "source": [
    "### Supplemental Video on DataHub and Jupyter Notebooks\n",
    "\n",
    "In Lab 0, we linked you to a video that walks you through key ideas you should be aware of when working on DataHub and in Jupyter Notebooks, including\n",
    "- how files are organized on DataHub\n",
    "- what it means to \"restart the kernel\"\n",
    "- how to use keyboard shortcuts (most important: use `SHIFT + ENTER` to run a cell!)\n",
    "\n",
    "Now that you have some experience with Jupyter Notebooks, we're linking this video again for your convenience. If you feel a little shaky on how to work your way around a notebook or troubleshoot issues, we recommend you give it another watch. (When troubleshooting, make sure to always check the [Debugging](https://dsc10.com/debugging/) tab on the course website as well.)\n",
    "\n",
    "The video is quite long, but if you open the video directly on YouTube (which you can do by clicking the video's title after it loads in the next cell) you'll see timestamps in the description which you can use to jump to different parts of the video depending on what you'd like to learn more about."
   ]
  },
  {
   "cell_type": "code",
   "execution_count": null,
   "metadata": {
    "scrolled": true,
    "tags": []
   },
   "outputs": [],
   "source": [
    "# Run this cell.\n",
    "YouTubeVideo('Hq8VaNirDRQ')"
   ]
  },
  {
   "cell_type": "markdown",
   "metadata": {},
   "source": [
    "## 0. Mid-Quarter Survey\n",
    "\n",
    "We'd like to hear from you on how DSC 10 has been going so far this quarter. To do so, we've put together a survey that asks you to provide feedback on all aspects of the course. You can provide as much or as little detail as you'd like. We value your input and will use the results of the survey to improve the course!\n",
    "\n",
    "This survey is entirely anonymous, though you are free to leave your name and email if you want. The responses to the survey will be visible to both course staff and the Data Science Student Representatives. There will also be a question at the end of the survey that will allow you to provide feedback on the DSC program as a whole.\n",
    "\n",
    "<center><h3>Click <a href=\"https://forms.gle/3CPD5WACZEZqHmmR7\">here</a> to access the survey.</h3></center>\n",
    "\n",
    "After completing the survey, enter the keyword provided at the end of the survey to get credit towards this homework assignment."
   ]
  },
  {
   "cell_type": "code",
   "execution_count": null,
   "metadata": {},
   "outputs": [],
   "source": [
    "survey_keyword = ..."
   ]
  },
  {
   "cell_type": "code",
   "execution_count": null,
   "metadata": {
    "deletable": false,
    "editable": false
   },
   "outputs": [],
   "source": [
    "grader.check(\"q0\")"
   ]
  },
  {
   "cell_type": "markdown",
   "metadata": {},
   "source": [
    "## 1. 100 Years of \"J\" Baby Names 👶🏻"
   ]
  },
  {
   "cell_type": "markdown",
   "metadata": {},
   "source": [
    "What letter does your first name start with? In this problem, we'll look at baby names starting with the letter \"J\". The file `data/baby_names.csv` contains information from the [Social Security Administration](https://www.ssa.gov/oact/babynames/limits.html) about \"J\" baby names in the US from 1924 to 2023 — that's one hundred years of data! Run the cell below to read in the data."
   ]
  },
  {
   "cell_type": "code",
   "execution_count": null,
   "metadata": {
    "tags": []
   },
   "outputs": [],
   "source": [
    "baby = bpd.read_csv('data/baby_names.csv')\n",
    "baby"
   ]
  },
  {
   "cell_type": "markdown",
   "metadata": {},
   "source": [
    "The DataFrame `baby` has a row for each `'State'` (50 US states plus Washington DC), `'Gender'` (`'M'` or `'F'`, as assigned at birth), `'Year'` (between 1924 and 2023), and `'Name'`. The `'Count'` column records the number of babies of that gender who were given that name in one state in one year.\n",
    "\n",
    "The first row in `baby` contains the name John. Below, we look at only the rows corresponding to the name John."
   ]
  },
  {
   "cell_type": "code",
   "execution_count": null,
   "metadata": {},
   "outputs": [],
   "source": [
    "baby[baby.get('Name') == 'John']"
   ]
  },
  {
   "cell_type": "markdown",
   "metadata": {},
   "source": [
    "The first row of the DataFrame shows that there were 36 male babies named John born in Alaska in 1924. There are many other rows corresponding to the name John, which come from other years, other states, and also female babies named John, of which there are some!\n",
    "\n",
    "\n",
    "Run the cell below to find out when and where many female Johns were born."
   ]
  },
  {
   "cell_type": "code",
   "execution_count": null,
   "metadata": {
    "tags": []
   },
   "outputs": [],
   "source": [
    "female_john = baby[(baby.get('Name') == 'John') & (baby.get('Gender') == 'F')]\n",
    "female_john.sort_values(by='Count', ascending=False)"
   ]
  },
  {
   "cell_type": "markdown",
   "metadata": {},
   "source": [
    "**Question 1.1.** There are many more male Johns than female Johns, so let's look at the popularity of the name John in male babies over time. Create a line plot that shows how the number of male babies named John has changed over time in the US. Then use your plot to answer the question that follows."
   ]
  },
  {
   "cell_type": "code",
   "execution_count": null,
   "metadata": {
    "tags": []
   },
   "outputs": [],
   "source": [
    "# Create your line plot here."
   ]
  },
  {
   "cell_type": "markdown",
   "metadata": {},
   "source": [
    "Around what year was the peak in popularity for the name John in male babies? Choose the closest answer from the options below and set `male_john_peak` to 1, 2, 3, or 4 corresponding to your answer choice.\n",
    "1. 1930\n",
    "2. 1950\n",
    "3. 1970\n",
    "4. 1990"
   ]
  },
  {
   "cell_type": "code",
   "execution_count": null,
   "metadata": {
    "tags": []
   },
   "outputs": [],
   "source": [
    "male_john_peak = ..."
   ]
  },
  {
   "cell_type": "code",
   "execution_count": null,
   "metadata": {
    "deletable": false,
    "editable": false
   },
   "outputs": [],
   "source": [
    "grader.check(\"q1_1\")"
   ]
  },
  {
   "cell_type": "markdown",
   "metadata": {},
   "source": [
    "**Question 1.2.** In the `baby` DataFrame, how many babies of each gender were born in each state? Create a DataFrame named `num_babies` with one row for each gender in each state and columns `'State'`, `'Gender'`, and `'Count'`, which contains the total number of babies of each gender in each state with a \"J\" name. The first few rows of `num_babies` are shown below.\n",
    "\n",
    "<table border=\"1\" class=\"dataframe\">\n",
    "  <thead>\n",
    "    <tr style=\"text-align: right;\">\n",
    "      <th></th>\n",
    "      <th>State</th>\n",
    "      <th>Gender</th>\n",
    "      <th>Count</th>\n",
    "    </tr>\n",
    "  </thead>\n",
    "  <tbody>\n",
    "    <tr>\n",
    "      <th>0</th>\n",
    "      <td>AK</td>\n",
    "      <td>F</td>\n",
    "      <td>15495</td>\n",
    "    </tr>\n",
    "    <tr>\n",
    "      <th>1</th>\n",
    "      <td>AK</td>\n",
    "      <td>M</td>\n",
    "      <td>44767</td>\n",
    "    </tr>\n",
    "    <tr>\n",
    "      <th>2</th>\n",
    "      <td>AL</td>\n",
    "      <td>F</td>\n",
    "      <td>191205</td>\n",
    "    </tr>\n",
    "    <tr>\n",
    "      <th>3</th>\n",
    "      <td>AL</td>\n",
    "      <td>M</td>\n",
    "      <td>555313</td>\n",
    "    </tr>\n",
    "  </tbody>\n",
    "</table>\n",
    "\n",
    "***Hints:***\n",
    "- You can do this in one line of code.\n",
    "- Don't forget to use `.reset_index()`.\n"
   ]
  },
  {
   "cell_type": "code",
   "execution_count": null,
   "metadata": {
    "tags": []
   },
   "outputs": [],
   "source": [
    "num_babies = ...\n",
    "num_babies"
   ]
  },
  {
   "cell_type": "code",
   "execution_count": null,
   "metadata": {
    "deletable": false,
    "editable": false
   },
   "outputs": [],
   "source": [
    "grader.check(\"q1_2\")"
   ]
  },
  {
   "cell_type": "markdown",
   "metadata": {},
   "source": [
    "A gendered name is a combination of a name and a gender, such as female John. Let's explore the average age of people with each gendered name. For example, let's calculate the average age of all female Johns."
   ]
  },
  {
   "cell_type": "code",
   "execution_count": null,
   "metadata": {
    "tags": []
   },
   "outputs": [],
   "source": [
    "female_john"
   ]
  },
  {
   "cell_type": "markdown",
   "metadata": {},
   "source": [
    "We'll define the age of a person as 2024 (the current year) minus the year in which the person was born. This doesn't take into account people's birthdays, because we don't have that information. For example, if a female John was born in 1984, they will be counted as 2024 - 1984 = 40 years old. Therefore the **total age** of all the female Johns is given below."
   ]
  },
  {
   "cell_type": "code",
   "execution_count": null,
   "metadata": {
    "tags": []
   },
   "outputs": [],
   "source": [
    "total_age = ((2024 - female_john.get('Year')) * female_john.get('Count')).sum()\n",
    "total_age"
   ]
  },
  {
   "cell_type": "markdown",
   "metadata": {},
   "source": [
    "To find the average age, we need to know how many female Johns there are. The **total count** of female Johns is given below."
   ]
  },
  {
   "cell_type": "code",
   "execution_count": null,
   "metadata": {
    "tags": []
   },
   "outputs": [],
   "source": [
    "total_count = female_john.get('Count').sum()\n",
    "total_count"
   ]
  },
  {
   "cell_type": "markdown",
   "metadata": {},
   "source": [
    "Therefore the **average age** of female Johns is given below."
   ]
  },
  {
   "cell_type": "code",
   "execution_count": null,
   "metadata": {
    "tags": []
   },
   "outputs": [],
   "source": [
    "average_age = total_age / total_count\n",
    "average_age"
   ]
  },
  {
   "cell_type": "markdown",
   "metadata": {},
   "source": [
    "Notice that we _cannot_ calculate the average age of female Johns as follows."
   ]
  },
  {
   "cell_type": "code",
   "execution_count": null,
   "metadata": {
    "tags": []
   },
   "outputs": [],
   "source": [
    "age = 2024 - female_john.get('Year')\n",
    "age.mean()"
   ]
  },
  {
   "cell_type": "markdown",
   "metadata": {},
   "source": [
    "This is incorrect because it does not take into account the fact that there were more female Johns born some years than others. "
   ]
  },
  {
   "cell_type": "markdown",
   "metadata": {},
   "source": [
    "**Question 1.3.** Create a DataFrame named `avg_age` that has one row for each gendered name and columns `'Gender'`, `'Name'`, and `'Average_Age'`, which contains the average age of all people with each gendered name. The first few rows of `avg_age` are shown below.\n",
    "\n",
    "<table border=\"1\" class=\"dataframe\">\n",
    "  <thead>\n",
    "    <tr style=\"text-align: right;\">\n",
    "      <th></th>\n",
    "      <th>Gender</th>\n",
    "      <th>Name</th>\n",
    "      <th>Average_Age</th>\n",
    "    </tr>\n",
    "  </thead>\n",
    "  <tbody>\n",
    "    <tr>\n",
    "      <th>0</th>\n",
    "      <td>F</td>\n",
    "      <td>Ja</td>\n",
    "      <td>24.000000</td>\n",
    "    </tr>\n",
    "    <tr>\n",
    "      <th>1</th>\n",
    "      <td>M</td>\n",
    "      <td>Ja</td>\n",
    "      <td>24.571429</td>\n",
    "    </tr>\n",
    "    <tr>\n",
    "      <th>2</th>\n",
    "      <td>F</td>\n",
    "      <td>Jace</td>\n",
    "      <td>10.451613</td>\n",
    "    </tr>\n",
    "    <tr>\n",
    "      <th>3</th>\n",
    "      <td>M</td>\n",
    "      <td>Jace</td>\n",
    "      <td>11.472549</td>\n",
    "    </tr>\n",
    "  </tbody>\n",
    "</table>\n",
    "\n",
    "***Hints:***\n",
    "- Before attempting this question, make sure you understand the strategy shown above for finding the average age of female Johns. You will need to generalize this approach.\n",
    "- This is a multi-step problem. Add cells and display your intermediate results so you can see your progress as you go.\n",
    "- You should check that the average age for female Johns in your DataFrame `avg_age` is the same as we found above.\n"
   ]
  },
  {
   "cell_type": "code",
   "execution_count": null,
   "metadata": {
    "tags": []
   },
   "outputs": [],
   "source": [
    "avg_age = ...\n",
    "avg_age"
   ]
  },
  {
   "cell_type": "code",
   "execution_count": null,
   "metadata": {
    "deletable": false,
    "editable": false
   },
   "outputs": [],
   "source": [
    "grader.check(\"q1_3\")"
   ]
  },
  {
   "cell_type": "markdown",
   "metadata": {},
   "source": [
    "## 2. Holding Space 👸🏼💗💚🧙🏻‍♀️"
   ]
  },
  {
   "cell_type": "markdown",
   "metadata": {},
   "source": [
    "*Wicked (2024)* is a film adaptation of a stage musical of the [same name](https://en.wikipedia.org/wiki/Wicked_(musical)), which are both based on the *Oz* books. Set up against a backdrop of political intrigue and conflict in the Land of Oz, the movie follows the story of Elphaba Thropp, a character who is ostracized due to her green skin and who becomes the Wicked Witch of the West. The movie tells the story of Elphaba's unexpected friendship with Galinda Upland, a ditzy yet caring character who ultimately becomes Glinda the Good.\n",
    "<br>\n",
    "<br>\n",
    "<center><img src=images/wicked_poster.jpg width=250><br>(<a href=\"http://www.impawards.com/2024/wicked_ver2_xlg.html\">source</a>)</center>\n",
    "\n",
    "The film broke numerous records, most notably becoming the [highest-grossing film adaptation of a Broadway musical](https://www.billboard.com/lists/broadway-musical-films-biggest-box-office-wicked/). Therefore, it seems fitting to analyze the film's music because after all, it is a **musical**. 🎶\n",
    "\n",
    "In the `singers` DataFrame below, each row contains information about a song and an artist who performed in that song. There can be multiple rows with the same `'Song Title'` since a song can include more than one singer, and there can be multiple rows with the same `'Artist'` because an artist can sing more than one song on the soundtrack. <br>"
   ]
  },
  {
   "cell_type": "code",
   "execution_count": null,
   "metadata": {},
   "outputs": [],
   "source": [
    "singers = bpd.read_csv('data/wicked_soundtrack.csv')\n",
    "singers"
   ]
  },
  {
   "cell_type": "markdown",
   "metadata": {},
   "source": [
    "The `'Artist'` column includes the real names of the artists who performed each song, but most moviegoers will know the names of the characters better than the names of the actors who portrayed them.\n",
    "\n",
    "Run the cell below to load in a dataset which contains information about many of the characters and respective actors. We'll read these into a DataFrame called `actors`."
   ]
  },
  {
   "cell_type": "code",
   "execution_count": null,
   "metadata": {},
   "outputs": [],
   "source": [
    "actors = bpd.read_csv('data/wicked_characters.csv')\n",
    "actors"
   ]
  },
  {
   "cell_type": "markdown",
   "metadata": {},
   "source": [
    "**Question 2.1.** Using the `merge` method, combine the `actors` and `singers` DataFrames, and assign the resulting DataFrame to the variable `actors_and_singers`. \n",
    "- `actors_and_singers` should contain all of the columns in both `actors` and `singers`, except the `'Artist'` column from `singers`, which is redundant with the `'Actor'` column from `actors`.\n",
    "- Sort `actors_and_singers` by `'Character'` in ascending order.\n",
    "\n",
    "\n",
    "<!--\n",
    "BEGIN QUESTION\n",
    "name: q2_1\n",
    "-->"
   ]
  },
  {
   "cell_type": "code",
   "execution_count": null,
   "metadata": {
    "tags": []
   },
   "outputs": [],
   "source": [
    "actors_and_singers= ...\n",
    "actors_and_singers"
   ]
  },
  {
   "cell_type": "code",
   "execution_count": null,
   "metadata": {
    "deletable": false,
    "editable": false
   },
   "outputs": [],
   "source": [
    "grader.check(\"q2_1\")"
   ]
  },
  {
   "cell_type": "markdown",
   "metadata": {},
   "source": [
    "**Question 2.2.** If you completed Question 2.1. correctly, you'll notice that `actors_and_singers` has fewer rows than `singers` but more rows than `actors`. This is because there are some artists in `singers` that are not a part of the main cast, and some people in `actors` that sing multiple songs. \n",
    "\n",
    "Below, assign `actors_not_singers` to the number of actors that are in `actors` but not in `singers`. Similarly, assign `singers_not_actors` to the number of singers that are in `singers` but not in `actors`.\n",
    "\n",
    "_Hint_: There are two ways to find the number of unique values in a column.\n",
    "\n",
    "1. Group by that column. On the resulting DataFrame, use `.shape[0]`.\n",
    "\n",
    "2. Use the `.unique()` method on the Series corresponding to that column. Use `len` on the resulting array.\n",
    "\n",
    "You'll need to do this three times – once each for the columns that contain the people's names in `actors`, `singers`, and `actors_and_singers`.\n",
    "\n"
   ]
  },
  {
   "cell_type": "code",
   "execution_count": null,
   "metadata": {
    "scrolled": true,
    "tags": []
   },
   "outputs": [],
   "source": [
    "actors_not_singers = ...\n",
    "singers_not_actors = ...\n",
    "print('There are', actors_not_singers, 'actors in the main cast that are not singers.')\n",
    "print('There are', singers_not_actors, 'singers on the soundtrack that are not in the main cast.')"
   ]
  },
  {
   "cell_type": "code",
   "execution_count": null,
   "metadata": {
    "deletable": false,
    "editable": false
   },
   "outputs": [],
   "source": [
    "grader.check(\"q2_2\")"
   ]
  },
  {
   "cell_type": "markdown",
   "metadata": {},
   "source": [
    "Now that we better understand how `actors_and_singers` came to be, let's use it to answer some *Wicked* trivia questions. <br> <br>\n",
    "\n",
    "<center><img src=images/wicked_west_end.jpg width=250><br>A poster for the musical in the West End (<a href=\"https://collections.vam.ac.uk/item/O155331/wicked-poster-dewynters-ltd/\">source</a>)</center>\n",
    "\n",
    "**Question 2.3.** *Wicked* is told from the perspective of the two main characters, Elphaba and Galinda. Elphaba is arguably the more important character, as the word \"wicked\" is attributed to her, and she is the face of the musical. However, which character is more <a href=\"https://www.youtube.com/watch?v=5VjTswqyHdA\" style=\"color:pink;\">popular</a> in the movie?\n",
    "\n",
    "According to the `actors_and_singers` DataFrame, who appears in more songs, `'Elphaba Thropp'` or `'Galinda Upland'`? Assign your answer to `actors_and_singers` to 1, 2, or 3 corresponding to the answer choices below. \n",
    "\n",
    "1. Elphaba \n",
    "1. Galinda  \n",
    "1. They are tied.\n",
    "\n",
    "<!--\n",
    "BEGIN QUESTION\n",
    "name: q2_3\n",
    "-->"
   ]
  },
  {
   "cell_type": "code",
   "execution_count": null,
   "metadata": {},
   "outputs": [],
   "source": [
    "most_popular_character = ..."
   ]
  },
  {
   "cell_type": "code",
   "execution_count": null,
   "metadata": {
    "deletable": false,
    "editable": false
   },
   "outputs": [],
   "source": [
    "grader.check(\"q2_3\")"
   ]
  },
  {
   "cell_type": "markdown",
   "metadata": {},
   "source": [
    "**Question 2.4.** How many songs include *both* Elphaba and Galinda? \n",
    "\n",
    "Using the `actors_and_singers` DataFrame, set the variable `num_shared_songs` to the number of songs that include both main characters. "
   ]
  },
  {
   "cell_type": "code",
   "execution_count": null,
   "metadata": {},
   "outputs": [],
   "source": [
    "num_shared_songs = ...\n",
    "num_shared_songs"
   ]
  },
  {
   "cell_type": "code",
   "execution_count": null,
   "metadata": {
    "deletable": false,
    "editable": false
   },
   "outputs": [],
   "source": [
    "grader.check(\"q2_4\")"
   ]
  },
  {
   "cell_type": "markdown",
   "metadata": {},
   "source": [
    "## 3. Tritonmobile 🚗 🚙\n",
    "\n",
    "UCSD is launching its own car dealership called Tritonmobile! Every UCSD student that buys a Tritonmobile will have 5 years to pay off a car loan, plus they'll get a special Triton discount. You and Charlie have been hired as data scientists for the project. Your job is to make a monthly car-payment calculator for the Tritonmobile website. \n",
    "\n",
    "Car payments depend on a few factors, including the price of the car, the amount paid up-front (called the down payment), the interest rate, and the length of the loan (in this case, 5 years). \n",
    "\n",
    "Tritonmobile will use a student's credit score to determine their interest rate. Interest is essentially the cost of borrowing money - it is money paid on top of borrowed money. Interest rates are mainly decided based on a person's credit score, which is a way of measuring financial trustworthiness. To learn more about this, check out [this article](https://www.equifax.com/personal/education/personal-finance/articles/-/learn/what-do-interest-rates-mean/) about what interest rates mean and [this article](https://www.experian.com/blogs/ask-experian/why-do-people-with-higher-credit-scores-get-lower-interest-rates/#:~:text=People%20with%20higher%20credit%20scores,always%20looking%20to%20minimize%20risk.) about why credit scores affect interest rates.\n",
    "\n",
    "Let's walk through how Tritonmobile will calculate the loan payment on a \\\\$20,000 car with a $5,000 down payment, when the vehicle is sold to a student with a credit score of 750. The steps are as follows.\n",
    "\n",
    "1. **Calculate the interest rate of the loan based on the credit score**.  Tritonmobile determines the interest rate according to the table below.\n",
    "\n",
    "| Credit Rating |  Credit Score |Interest Rate |\n",
    "| --- | --- | --- |\n",
    "| super prime | 781 and above | 5.6% |\n",
    "| prime | 661 to 780 | 6.9% |\n",
    "| near prime | 601 to 660 |  9.3% |\n",
    "| subprime | 501 to 600 |  11.9% |\n",
    "| deep subprime | up to 500 | 14.2% |\n",
    "\n",
    "For our example, if the car buyer has a 750 credit score, their interest rate is 6.9\\%. \n",
    "\n",
    "2. **Calculate the principal amount on the loan using the down payment**. The principal amount is how much money you have to pay off (through monthly installments) after giving a down payment. This is usually calculated by simply subtracting the down payment from the cost of the car. However, Tritonmobile is offering a special discount for UCSD students called the Triton discount that lowers the principal even further. The higher the down payment, then the higher the discount. The Triton discount is determined by the table below.\n",
    "\n",
    "| Down Payment as Percentage of Cost | Triton Discount |\n",
    "| --- | --- |\n",
    "| [0%, 10%) | 2% |\n",
    "| [10%, 20%) | 5% |\n",
    "| [20%, 30%) | 9% |\n",
    "| [30%, 40%) | 14% |\n",
    "| 40% or above | 20% |\n",
    "\n",
    "Note that the notation $[a, b)$ means \"greater than or equal to $a$ and less than $b$\". For example, a down payment that is equal to 10% of the total payment earns the buyer a 2% Triton discount, but 10.1% earns a 5% discount.\n",
    "\n",
    "For our example, a down payment of \\\\$5,000 on a \\\\$20,000 car means the down payment already covers 25% of the cost of the car. According to the table above, with 25% of the cost of the car already covered by the down payment, the Triton discount is 9%. This discount is applied to the remaining balance of the car after the down payment, which is \\$15,000. So the buyer gets an additional discount of \\\\$1,350, which comes from 9\\% of \\\\$15,000. This means that instead of having to pay off \\\\$15,000 through monthly installments, they only need to pay off \\\\$13,650 (which is \\\\$1,350 less than \\\\$15,000).\n",
    "\n",
    "3. **Calculate the monthly payment based on the interest rate and principal.** The formula below details how to calculate the monthly payment. This is called the *annuity* formula and it's widely used to determine monthly loan payments, a process known as [*amortization*](https://en.wikipedia.org/wiki/Amortization_calculator). \n",
    "    \n",
    "$$ \\text{monthly car payment} = \\text{principal} \\cdot\\frac{\\frac{\\text{interest}}{12}}{1-\\left(1+ \\frac{\\text{interest}}{12}\\right)^{-\\text{number of months}}}$$\n",
    "\n",
    "For this example, we previously calculated the interest rate to be 6.9\\% (or 0.069 as a proportion) and the principal to be \\\\$13,650. A five year loan is 60 months. Plugging these values into the formula yields $270, which is the monthly payment.\n",
    "\n",
    "Now that you know how monthly loan payments are calculated, let's build our loan payment calculator!"
   ]
  },
  {
   "cell_type": "markdown",
   "metadata": {},
   "source": [
    "**Question 3.1.** Complete the implementation of the function `calculate_interest`, which takes in a credit score (`score`) and returns the corresponding interest rate as a **proportion**. For instance, `calculate_interest(750)` should evaluate to `.069` and `calculate_interest(781)` should evaluate to `.056`.\n",
    "\n",
    "For you convenience, the interest table is shown again below.\n",
    "\n",
    "| Credit Rating |  Credit Score |Interest Rate |\n",
    "| --- | --- | --- |\n",
    "| super prime | 781 and above | 5.6% |\n",
    "| prime | 661 to 780 | 6.9% |\n",
    "| near prime | 601 to 660 |  9.3% |\n",
    "| subprime | 501 to 600 |  11.9% |\n",
    "| deep subprime | up to 500 | 14.2% |\n",
    "\n",
    "***Hint:*** \n",
    "- Use `elif`."
   ]
  },
  {
   "cell_type": "code",
   "execution_count": null,
   "metadata": {},
   "outputs": [],
   "source": [
    "def calculate_interest(score):  \n",
    "    ...\n",
    "\n",
    "# Feel free to change the line below to try other examples.\n",
    "calculate_interest(750) # should be 0.069"
   ]
  },
  {
   "cell_type": "code",
   "execution_count": null,
   "metadata": {
    "deletable": false,
    "editable": false
   },
   "outputs": [],
   "source": [
    "grader.check(\"q3_1\")"
   ]
  },
  {
   "cell_type": "markdown",
   "metadata": {},
   "source": [
    "**Question 3.2.** Next, you need to calculate the Triton discount and the resulting principal for the loan. Complete the implementation of the function `calculate_principal`, which takes in the price of a car (`price`) and a down payment (`down_payment`) and returns the **principal after the Triton discount**. For instance, `calculate_principal(20_000, 5_000)` should evaluate to `13650.0` as calculated in the example above. For your convenience, the Triton discount table is shown again below.\n",
    "\n",
    "| Down Payment as Percentage of Cost | Triton Discount |\n",
    "| --- | --- |\n",
    "| [0%, 10%) | 2% |\n",
    "| [10%, 20%) | 5% |\n",
    "| [20%, 30%) | 9% |\n",
    "| [30%, 40%) | 14% |\n",
    "| 40% or above | 20% |\n",
    "\n",
    "***Hint:*** There are 3 steps to this process:\n",
    "1. Calculate the percentage of the total payment that is covered by the down payment (e.g. a \\\\$5,000 down payment covers 25\\% of a \\\\$20,000 car).\n",
    "2. Use the table above to determine the Triton discount (e.g. if 25\\% of the price is covered by the down payment, the Triton discount is 9\\%).\n",
    "3. Calculate the principal after the discount. Remember that the discount is applied to the price of the car less the down payment amount (e.g. with a 9\\% discount, the balance of \\\\$5,000 yields a principal of \\\\$13650)."
   ]
  },
  {
   "cell_type": "code",
   "execution_count": null,
   "metadata": {
    "scrolled": true
   },
   "outputs": [],
   "source": [
    "def calculate_principal(price, down_payment):  \n",
    "    ...\n",
    "\n",
    "# Feel free to change the line below to try other examples.\n",
    "calculate_principal(20_000, 5_000) # should be 13650.0"
   ]
  },
  {
   "cell_type": "code",
   "execution_count": null,
   "metadata": {
    "deletable": false,
    "editable": false
   },
   "outputs": [],
   "source": [
    "grader.check(\"q3_2\")"
   ]
  },
  {
   "cell_type": "markdown",
   "metadata": {},
   "source": [
    "**Question 3.3.** Finally, complete the implementation of the function `monthly_payment`, which takes in the price of a car (`price`), a down payment (`down_payment`), and a credit score (`score`), and returns the monthly payment amount, **rounded to the nearest integer**. For example, a \\\\$20,000 car with a \\\\$5,000 down payment and a 750 credit score should produce a monthly payment of \\\\$270. For your convenience, the monthly payment formula is shown here again.\n",
    "\n",
    "$$ \\text{monthly car payment} = \\text{principal} \\cdot\\frac{\\frac{\\text{interest}}{12}}{1-\\left(1+ \\frac{\\text{interest}}{12}\\right)^{-\\text{number of months}}}$$\n",
    "\n",
    "\n",
    "**Notes:**\n",
    "- In this formula, the denominator is raised to the *negative* power of the number of months on the loan.\n",
    "- All Tritonmobile loans are all paid over 5 years, or 60 months.\n",
    "- You should use both of the functions you implemented in 3.1 and 3.2."
   ]
  },
  {
   "cell_type": "code",
   "execution_count": null,
   "metadata": {},
   "outputs": [],
   "source": [
    "def monthly_payment(price, down_payment, score): \n",
    "    ...\n",
    "\n",
    "# Feel free to change the line below to try other examples.\n",
    "monthly_payment(20_000, 5_000, 750) # should be 270"
   ]
  },
  {
   "cell_type": "code",
   "execution_count": null,
   "metadata": {
    "deletable": false,
    "editable": false
   },
   "outputs": [],
   "source": [
    "grader.check(\"q3_3\")"
   ]
  },
  {
   "cell_type": "markdown",
   "metadata": {},
   "source": [
    "### Final Product\n",
    "\n",
    "You just did all of the math necessary to build a car payment calculator, like the ones you see on many dealership websites. Charlie used your functions to create this interactive widget for the Tritonmobile website. Run the following cell once you've completed the rest of this question!"
   ]
  },
  {
   "cell_type": "code",
   "execution_count": null,
   "metadata": {},
   "outputs": [],
   "source": [
    "# Don't worry about the code, just play with the slider that appears after running.\n",
    "def plot_car_payment_calculator(price, down_payment, credit_score):\n",
    "    s = f'''\n",
    "    <h1>Tritonmobile Car Payment Calculator 🚘 </h1>\n",
    "    <h3>{'${:,.2f}'.format(price)}</h3>\n",
    "    Total Car Price\n",
    "    <h3>{'${:,.2f}'.format(down_payment)}</h3>\n",
    "    Down Payment\n",
    "    <h3>{'{:,.0f}'.format(credit_score)}</h3>\n",
    "    Credit Score\n",
    "    \n",
    "    <h1>{'${:,.0f}'.format(monthly_payment(price, down_payment, credit_score))}</h2>\n",
    "    Your Monthly Payment\n",
    "    \n",
    "    '''\n",
    "    display(HTML(s))\n",
    "    \n",
    "interact(plot_car_payment_calculator, price=(10_000, 50_000, 1000), down_payment=(0, 10_000, 100), credit_score=(300, 850, 1));\n",
    "\n"
   ]
  },
  {
   "cell_type": "markdown",
   "metadata": {
    "deletable": false,
    "editable": false
   },
   "source": [
    "## 4. Alternating Products\n",
    "\n",
    "In this problem, we'll define two functions that compute some sort of \"alternating product\" of a sequence of values.\n",
    "\n",
    "**Question 4.1.** Complete the implementation of the function `alternating_product`, which takes in an array of numbers, `values`, and returns the product of every other element in `values`, starting with the first element (at position `0`). Example behavior is shown below.\n",
    "\n",
    "```py\n",
    ">>> alternating_product(np.array([2, 3.5, 1, 1.5]))\n",
    "2.0 # comes from 2 * 1\n",
    "\n",
    ">>> alternating_product(np.array([2, 3.5, 1, 1.5, 4.5]))\n",
    "9.0 # comes from 2 * 1 * 4.5\n",
    "```\n",
    "<!--\n",
    "BEGIN QUESTION\n",
    "name: q4_1\n",
    "-->"
   ]
  },
  {
   "cell_type": "code",
   "execution_count": null,
   "metadata": {},
   "outputs": [],
   "source": [
    "def alternating_product(values):\n",
    "    ...\n",
    "    \n",
    "# Feel free to change this input to make sure your function works correctly.\n",
    "alternating_product(np.array([2, 3.5, 1, 1.5]))"
   ]
  },
  {
   "cell_type": "code",
   "execution_count": null,
   "metadata": {
    "deletable": false,
    "editable": false
   },
   "outputs": [],
   "source": [
    "grader.check(\"q4_1\")"
   ]
  },
  {
   "cell_type": "markdown",
   "metadata": {
    "deletable": false,
    "editable": false
   },
   "source": [
    "**Question 4.2.** In math, the word \"alternating\" is also used to describe sequences of numbers where the signs oscillate back and forth between positive and negative. Complete the implementation of the function `alternating_sign_product`, which takes in an array of positive numbers, `values`, and returns the product of every element in `values`, with alternating signs, starting with a positive sign for element `0`, a negative sign for element `1`, and so on. Example behavior is shown below.\n",
    "\n",
    "```py\n",
    ">>> alternating_sign_product(np.array([2, 3.5, 1]))\n",
    "-7.0 # comes from 2 * (-3.5) * 1\n",
    "\n",
    ">>> alternating_sign_product(np.array([2, 3.5, 1, 1.5]))\n",
    "10.5 # comes from 2 * (-3.5) * 1 * (-1.5)\n",
    "```\n",
    "\n",
    "***Hint:*** If `x` is an integer, `x % 2` evaluates to 0 when `x` is even and to 1 when `x` is odd. If `x` represents the position of an element in the array, you can use this to help you figure out whether the sign should be positive or negative.\n",
    "\n",
    "<!--\n",
    "BEGIN QUESTION\n",
    "name: q4_2\n",
    "-->"
   ]
  },
  {
   "cell_type": "code",
   "execution_count": null,
   "metadata": {},
   "outputs": [],
   "source": [
    "def alternating_sign_product(values):\n",
    "    ...\n",
    "    \n",
    "# Feel free to change this input to make sure your function works correctly.\n",
    "alternating_sign_product(np.array([2, 3.5, 1]))"
   ]
  },
  {
   "cell_type": "code",
   "execution_count": null,
   "metadata": {
    "deletable": false,
    "editable": false
   },
   "outputs": [],
   "source": [
    "grader.check(\"q4_2\")"
   ]
  },
  {
   "cell_type": "markdown",
   "metadata": {},
   "source": [
    "## 5. Lucky Triton Lotto 🔱 🎱 \n",
    "\n",
    "Suppose UCSD holds an annual lottery called the Lucky Triton Lotto, where students can enter to win Triton Cash, or even free housing! Here's how the Lucky Triton Lotto works:\n",
    "\n",
    "- First, you pick five **different** numbers, one at a time, from 1 to 29, representing that according to [USNews](https://www.usnews.com/best-colleges/university-of-california-san-diego-1317), UCSD is ranked 29th in the nation for best universities to attend for 2024-2025.\n",
    "- Then, you separately pick a number from 1 to 12. This is because UCSD's Data Science program is ranked 12th in [USNews's](https://www.usnews.com/best-colleges/rankings/computer-science/data-analytics-science) best undergraduate Data Science programs list (though we think it's number one). Let's say you select 3.\n",
    "- The six numbers you have selected, or  **your numbers**, can be represented all together as (7, 12, 24, 15, 13, 3). This is a _sequence_ of six numbers – **order matters**!\n",
    "\n",
    "The **winning numbers** are chosen by King Triton drawing five balls, one at a time, **without replacement**, from a pot of white balls numbered 1 to 29. Then, he draws a gold ball, the Tritonball, from a pot of gold balls numbered 1 to 12. Both pots are completely separate, hence the different ball colors. For example, maybe the winning numbers are (15, 9, 24, 23, 1, 3).\n",
    "\n",
    "We’ll assume for this problem that in order to win the grand prize (free housing), all six of your numbers need to match the winning numbers and be in the **exact same order**. In other words, your entire sequence of numbers must be exactly the same as the sequence of winning numbers. However, if some numbers in your sequence match up with the corresponding number in the winning sequence, you will still win some Triton Cash. \n",
    "\n",
    "Suppose again that you select (7, 12, 24, 15, 13, 3) and the winning numbers are (15, 9, 24, 23, 1, 3). In this case, two of your numbers are considered to match two of the winning numbers. \n",
    "- Your numbers: (7, 12, **24**, 15, 13, **3**)\n",
    "- Winning numbers: (15, 9, **24**, 23, 1, **3**)\n",
    "\n",
    "You won't win free housing, but you will win some Triton Cash. Note that although both sequences include the number 15 within the first five numbers (representing a white ball), since they are in different positions, that's not considered a match.\n"
   ]
  },
  {
   "cell_type": "markdown",
   "metadata": {},
   "source": [
    "**Question 5.1.** What is the probability that your Tritonball number (the last number in your sequence) matches the winning Tritonball number? Calculate your answer and assign it to `tritonball_chance`. If you need to do any calculations (e.g. multiplication or division), make Python do it; don't use a separate calculator. Your result should be a decimal number between 0 and 1."
   ]
  },
  {
   "cell_type": "code",
   "execution_count": null,
   "metadata": {},
   "outputs": [],
   "source": [
    "tritonball_chance = ...\n",
    "tritonball_chance"
   ]
  },
  {
   "cell_type": "code",
   "execution_count": null,
   "metadata": {
    "deletable": false,
    "editable": false
   },
   "outputs": [],
   "source": [
    "grader.check(\"q5_1\")"
   ]
  },
  {
   "cell_type": "markdown",
   "metadata": {},
   "source": [
    "**Question 5.2.** What is the probability that your first three numbers match the first three winning numbers? Calculate your answer and assign it to `first_three_chance`. If you need to do any calculations (e.g. multiplication or division), make Python do it; don't use a separate calculator. Your result should be a decimal number between 0 and 1.\n",
    "\n",
    "***Hint:*** You need **all three** of the first three numbers to match. What probability rule should you use?"
   ]
  },
  {
   "cell_type": "code",
   "execution_count": null,
   "metadata": {},
   "outputs": [],
   "source": [
    "first_three_chance = ...\n",
    "first_three_chance"
   ]
  },
  {
   "cell_type": "code",
   "execution_count": null,
   "metadata": {
    "deletable": false,
    "editable": false
   },
   "outputs": [],
   "source": [
    "grader.check(\"q5_2\")"
   ]
  },
  {
   "cell_type": "markdown",
   "metadata": {},
   "source": [
    "**Question 5.3.** What is the probability that you win the grand prize, free housing? Calculate your answer and assign it to `free_housing_chance`. If you need to do any calculations (e.g. multiplication or division), make Python do it; don't use a separate calculator. Your result should be a decimal number between 0 and 1.\n",
    "\n",
    "***Hint:*** When you select a ball without replacement, what happens to the total number of balls you can select next time?"
   ]
  },
  {
   "cell_type": "code",
   "execution_count": null,
   "metadata": {},
   "outputs": [],
   "source": [
    "free_housing_chance = ...\n",
    "free_housing_chance"
   ]
  },
  {
   "cell_type": "code",
   "execution_count": null,
   "metadata": {
    "deletable": false,
    "editable": false
   },
   "outputs": [],
   "source": [
    "grader.check(\"q5_3\")"
   ]
  },
  {
   "cell_type": "markdown",
   "metadata": {},
   "source": [
    "**Question 5.4.** What is the probability that you do **not** win free housing? Calculate your answer and assign it to `no_free_housing_chance`. If you need to do any calculations (e.g. multiplication or division), make Python do it; don't use a separate calculator. Your result should be a decimal number between 0 and 1."
   ]
  },
  {
   "cell_type": "code",
   "execution_count": null,
   "metadata": {
    "scrolled": true
   },
   "outputs": [],
   "source": [
    "no_free_housing_chance = ...\n",
    "no_free_housing_chance"
   ]
  },
  {
   "cell_type": "code",
   "execution_count": null,
   "metadata": {
    "deletable": false,
    "editable": false
   },
   "outputs": [],
   "source": [
    "grader.check(\"q5_4\")"
   ]
  },
  {
   "cell_type": "markdown",
   "metadata": {},
   "source": [
    "## Finish Line: Almost there, but make sure to follow the steps below to submit! 🏁\n",
    "\n",
    "**_Citations:_** Did you use any generative artificial intelligence tools to assist you on this assignment? If so, please state, for each tool you used, the name of the tool (ex. ChatGPT) and the problem(s) in this assignment where you used the tool for help."
   ]
  },
  {
   "cell_type": "markdown",
   "metadata": {},
   "source": [
    "<hr style=\"color:Maroon;background-color:Maroon;border:0 none; height: 3px;\">\n",
    "\n",
    "Please cite tools here.\n",
    "\n",
    "<hr style=\"color:Maroon;background-color:Maroon;border:0 none; height: 3px;\">"
   ]
  },
  {
   "cell_type": "markdown",
   "metadata": {},
   "source": [
    "To submit your assignment:\n",
    "\n",
    "1. Select `Kernel -> Restart & Run All` to ensure that you have executed all cells, including the test cells.\n",
    "1. Read through the notebook to make sure everything is fine and all tests passed.\n",
    "1. Run the cell below to run all tests, and make sure that they all pass.\n",
    "1. Download your notebook using `File -> Download as -> Notebook (.ipynb)`, then upload your notebook to Gradescope.\n",
    "1. Stick around while the Gradescope autograder grades your work. Make sure you see that all tests have passed on Gradescope.\n",
    "1. Check that you have a confirmation email from Gradescope and save it as proof of your submission."
   ]
  },
  {
   "cell_type": "code",
   "execution_count": null,
   "metadata": {},
   "outputs": [],
   "source": [
    "grader.check_all()"
   ]
  }
 ],
 "metadata": {
  "kernelspec": {
   "display_name": "Python 3 (ipykernel)",
   "language": "python",
   "name": "python3"
  },
  "language_info": {
   "codemirror_mode": {
    "name": "ipython",
    "version": 3
   },
   "file_extension": ".py",
   "mimetype": "text/x-python",
   "name": "python",
   "nbconvert_exporter": "python",
   "pygments_lexer": "ipython3",
   "version": "3.8.20"
  }
 },
 "nbformat": 4,
 "nbformat_minor": 4
}
