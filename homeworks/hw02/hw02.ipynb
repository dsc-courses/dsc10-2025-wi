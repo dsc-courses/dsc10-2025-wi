{
 "cells": [
  {
   "cell_type": "markdown",
   "metadata": {},
   "source": [
    "# Homework 2: DataFrames, Data Visualization, and Functions\n",
    "\n",
    "## Due Tuesday, January 28th at 11:59PM\n",
    "\n",
    "Welcome to Homework 2! This week, we will cover DataFrame manipulations, making visualizations, and defining functions. You can find additional help on these topics in  [BPD 6, 9-12](https://notes.dsc10.com/01-getting_started/functions-defining.html) in the `babypandas` notes and [CIT 7-7.3](https://inferentialthinking.com/chapters/07/Visualization.html) in the textbook."
   ]
  },
  {
   "cell_type": "markdown",
   "metadata": {},
   "source": [
    "### Instructions\n",
    "\n",
    "Remember to start early and submit often. You are given six slip days throughout the quarter to extend deadlines. See the syllabus for more details. With the exception of using slip days, late work will not be accepted unless you have made special arrangements with your instructor.\n",
    "\n",
    "**Important**: For homeworks, the `otter` tests don't usually tell you that your answer is correct. More often, they help catch careless mistakes. It's up to you to ensure that your answer is correct. If you're not sure, ask someone (not for the answer, but for some guidance about your approach). These are great questions for office hours (see the schedule on the [Calendar](https://dsc10.com/calendar)) or Ed. Directly sharing answers is not okay, but discussing problems with the course staff or with other students is encouraged. \n",
    "\n",
    "**Please do not use for-loops for any questions in this homework.** If you don't know what a for-loop is, don't worry – we haven't covered them yet. But if you do know what they are and are wondering why it's not OK to use them, it is because loops in Python are slow, and looping over arrays and DataFrames should usually be avoided.\n",
    "\n",
    "<font color=red>**🚨 If you create a data visualization that is too cluttered to read or takes more than a few seconds to generate, this is a sign you are doing something wrong. Do not submit code like this, or the Gradescope autograder may fail to grade your entire assignment. It's better to leave a question blank than to submit code that will cause the autograder to fail on your full assignment.**</font>"
   ]
  },
  {
   "cell_type": "code",
   "execution_count": null,
   "metadata": {},
   "outputs": [],
   "source": [
    "# Please don't change this cell, but do make sure to run it\n",
    "import babypandas as bpd\n",
    "import numpy as np\n",
    "\n",
    "import matplotlib.pyplot as plt\n",
    "plt.style.use('ggplot')\n",
    "plt.rcParams['figure.figsize'] = (10, 5)\n",
    "\n",
    "import otter\n",
    "grader = otter.Notebook()"
   ]
  },
  {
   "cell_type": "markdown",
   "metadata": {},
   "source": [
    "## 1. UCSD ArtPower Events 🎨🎺💃"
   ]
  },
  {
   "cell_type": "markdown",
   "metadata": {},
   "source": [
    "<center><img src=\"./images/artpower.jpg\" width=600/></center>\n",
    "\n",
    "As a UCSD student, you may have noticed some emails from <a href=\"https://artpower.ucsd.edu/\">ArtPower</a>, a campus-based performing arts initiative, advertising upcoming events. ArtPower's self-described mission is to \"present performing arts that engage, energize, and transform the diverse cultural life of the university and San Diego.\" ArtPower events are open to the general public, and many are free for UCSD students. They encompass all sorts of performing arts, such as music, dance, and theatre. \n",
    "\n",
    "In this question, we'll work with a dataset of upcoming ArtPower events in the 2024-25 season. This dataset was collected by a former DSC 10 student, Austin Flippo, who wrote a <a href=\"https://github.com/AustinFlippo/UCSD_Events_Scraper\">web scraper</a> to collect information from the <a href=\"https://artpower.ucsd.edu/events/\"> ArtPower Events website</a> and store this information in a DataFrame. This DataFrame, `artpower`, is provided below, and it contains the following information for each event. \n",
    "\n",
    "|Column|Description|\n",
    "|------|-----------|\n",
    "|`'Event Name'`|The name of the event|\n",
    "|`'Category'`|The type of event|\n",
    "|`'Description'`|A brief summary of the event|\n",
    "|`'Link'`|The link to the event webpage|\n",
    "|`'Price'`|A breakdown of the pricing for different groups of people|\n",
    "|`'Date'`|Day, month, and year of the event|\n",
    "|`'Time'`|The day of the week and the time of the event|\n",
    "|`'Location'`|Location of the event (often on campus, but not always)|\n",
    "|`'Latitude'`|The latitude for the event's location|\n",
    "|`'Longitude'`|The longitude for the event's location|"
   ]
  },
  {
   "cell_type": "code",
   "execution_count": null,
   "metadata": {},
   "outputs": [],
   "source": [
    "artpower = bpd.read_csv('data/artpower.csv')\n",
    "artpower"
   ]
  },
  {
   "cell_type": "markdown",
   "metadata": {},
   "source": [
    "Let's start by exploring the `'Event Name'` column using the `describe()` method."
   ]
  },
  {
   "cell_type": "code",
   "execution_count": null,
   "metadata": {},
   "outputs": [],
   "source": [
    "artpower.get('Event Name').describe()"
   ]
  },
  {
   "cell_type": "markdown",
   "metadata": {},
   "source": [
    "**Question 1.1.** From the output above, we see that there are 24 event names, but only 23 of them are unique. This means that there are two events with the same name in `artpower`. Find the name of the event that is duplicated and store the result in `same_name` below.\n",
    "\n",
    "***Hint:*** Can you organize events so that events with the same name wind up together?"
   ]
  },
  {
   "cell_type": "code",
   "execution_count": null,
   "metadata": {},
   "outputs": [],
   "source": [
    "same_name = ...\n",
    "same_name"
   ]
  },
  {
   "cell_type": "code",
   "execution_count": null,
   "metadata": {
    "deletable": false,
    "editable": false
   },
   "outputs": [],
   "source": [
    "grader.check(\"q1_1\")"
   ]
  },
  {
   "cell_type": "markdown",
   "metadata": {},
   "source": [
    "**Question 1.2.** Are these actually two different events? Or is there an error in the data whereby we actually have two rows corresponding to the same event at the same time and place? To answer this question, make a new DataFrame, `same_name_events`, which should have the same columns as `artpower`, but only the two rows whose `'Event Name'` is `same_name`, as you found in the previous question. Look to see if there are any differences between the two rows!"
   ]
  },
  {
   "cell_type": "code",
   "execution_count": null,
   "metadata": {},
   "outputs": [],
   "source": [
    "same_name_events = ...\n",
    "same_name_events"
   ]
  },
  {
   "cell_type": "code",
   "execution_count": null,
   "metadata": {
    "deletable": false,
    "editable": false
   },
   "outputs": [],
   "source": [
    "grader.check(\"q1_2\")"
   ]
  },
  {
   "cell_type": "markdown",
   "metadata": {},
   "source": [
    "Next, let's look at the different event `'Category'` values that appear in the `artpower` DataFrame. You may notice that some events have a `'Category'` of `'Chamber Music'`, while others have a `'Category'` of `'Chamber Music*'`. "
   ]
  },
  {
   "cell_type": "code",
   "execution_count": null,
   "metadata": {},
   "outputs": [],
   "source": [
    "artpower.get('Category').unique()"
   ]
  },
  {
   "cell_type": "markdown",
   "metadata": {},
   "source": [
    "Why the asterisk, you ask? Great question! Here is ArtPower's explanation:\n",
    "\n",
    ">**ASTERISK\\***\n",
    ">When you see this symbol\\*, it indicates artists that are pushing the boundaries, often across genres."
   ]
  },
  {
   "cell_type": "markdown",
   "metadata": {},
   "source": [
    "**Question 1.3.** Then create a DataFrame called `chamber_music` that contains all the rows of `artpower` for events where the `'Category'` is `'Chamber Music'`, and all the rows for events where the `'Category'` is `'Chamber Music*'`, but no additional rows. "
   ]
  },
  {
   "cell_type": "code",
   "execution_count": null,
   "metadata": {},
   "outputs": [],
   "source": [
    "chamber_music = ...\n",
    "chamber_music"
   ]
  },
  {
   "cell_type": "code",
   "execution_count": null,
   "metadata": {
    "deletable": false,
    "editable": false
   },
   "outputs": [],
   "source": [
    "grader.check(\"q1_3\")"
   ]
  },
  {
   "cell_type": "markdown",
   "metadata": {},
   "source": [
    "**Question 1.4.** Suppose you want to extract the month of the year (e.g. February) for each event. Write a function called `month_of_year` that takes as input one entry from the ``'Date'`` column and outputs the three-letter abbreviation of the month of the year associated with that entry. For example, the function call `month_of_year('18-Feb-25')` should return the string `'Feb'`. You can assume that the inputs to your function will always be in the format shown in the `'Date'` column of `artpower`."
   ]
  },
  {
   "cell_type": "code",
   "execution_count": null,
   "metadata": {},
   "outputs": [],
   "source": [
    "def month_of_year(date):\n",
    "    ..."
   ]
  },
  {
   "cell_type": "code",
   "execution_count": null,
   "metadata": {
    "deletable": false,
    "editable": false
   },
   "outputs": [],
   "source": [
    "grader.check(\"q1_4\")"
   ]
  },
  {
   "cell_type": "markdown",
   "metadata": {},
   "source": [
    "**Question 1.5.** Using the `month_of_year` function you just wrote, assign the variable `most_month` to the month of the year that has the *highest* number of events planned. Then, assign `least_month` to the month of the year in the `artpower` DataFrame that has the *lowest* number of events planned. Finally, assign `difference_month` to the difference between the number of events in the most popular (`most_month`) and least popular (`least_month`) months of the year. \n",
    "\n",
    "***Hints:*** \n",
    "- You will need to define additional variables to answer this question. Feel free to add more cells above the provided cell.\n",
    "- Start by adding a column to `artpower` that contains the month of the year for each event."
   ]
  },
  {
   "cell_type": "code",
   "execution_count": null,
   "metadata": {
    "scrolled": true
   },
   "outputs": [],
   "source": [
    "most_month = ...\n",
    "least_month = ...\n",
    "difference_month = ...\n",
    "print(\"Events occur the most in\", most_month)\n",
    "print(\"Events occur the least in\", least_month)\n",
    "print(most_month, \"has\", difference_month, \"more events planned than\", least_month)"
   ]
  },
  {
   "cell_type": "code",
   "execution_count": null,
   "metadata": {
    "deletable": false,
    "editable": false
   },
   "outputs": [],
   "source": [
    "grader.check(\"q1_5\")"
   ]
  },
  {
   "cell_type": "markdown",
   "metadata": {},
   "source": [
    "**Question 1.6.** Construct an appropriate visualization to compare the distribution of the number of events across different months of the year, sorted so that the month with the most events appears first in your visualization.\n",
    "\n",
    "***Notes:*** \n",
    "- With this problem, and with all others, make sure your solutions sticks to the methods of the course. While there are many ways to make plots in Python, we've only used one, `.plot`.\n",
    "- This problem has no grader check. It will be manually graded by our staff."
   ]
  },
  {
   "cell_type": "markdown",
   "metadata": {
    "deletable": false,
    "editable": false
   },
   "source": [
    "<!-- BEGIN QUESTION -->\n",
    "\n",
    "<!--\n",
    "BEGIN QUESTION\n",
    "name: q1_6\n",
    "manual: true\n",
    "-->"
   ]
  },
  {
   "cell_type": "code",
   "execution_count": null,
   "metadata": {},
   "outputs": [],
   "source": [
    "# Create your plot here.\n",
    "..."
   ]
  },
  {
   "cell_type": "markdown",
   "metadata": {},
   "source": [
    "<!-- END QUESTION -->\n",
    "\n",
    "\n",
    "\n",
    "**Question 1.7.** In each row of `artpower`, we are given the `'Latitude'` and `'Longitude'`, which tells us a precise geographical location for each ArtPower event. To see how events are located relative to one another, create a scatter plot with `'Longitude'` on the x-axis and `'Latitude'` on the y-axis for every event in the `artpower` DataFrame. "
   ]
  },
  {
   "cell_type": "markdown",
   "metadata": {
    "deletable": false,
    "editable": false
   },
   "source": [
    "<!-- BEGIN QUESTION -->\n",
    "\n",
    "<!--\n",
    "BEGIN QUESTION\n",
    "name: q1_7\n",
    "manual: true\n",
    "-->"
   ]
  },
  {
   "cell_type": "code",
   "execution_count": null,
   "metadata": {},
   "outputs": [],
   "source": [
    "# Create your plot here.\n",
    "..."
   ]
  },
  {
   "cell_type": "markdown",
   "metadata": {},
   "source": [
    "<!-- END QUESTION -->\n",
    "\n",
    "\n",
    "\n",
    "Your scatter plot shows how the event locations are related to one another geographically, but it's hard to draw much insight from such a basic plot. For example, you might not realize from looking at the plot above that all the dots in the upper left corner correspond to events happening on UCSD's campus, while the dots in the bottom right correspond to events happening in downtown San Diego. That would be much easier to discover if we could plot these points not just on a scatter plot, but on a map.\n",
    "\n",
    "Luckily, there's a Python package for that. Run the cell below to import the package `folium`, which supports maps, and to see the ArtPower events on a map we've created using the `'Latitude'` and `'Longitude'` values in `artpower`. You don't need to understand the code that creates the map, but do try zooming in and clicking around on the map that is produced. "
   ]
  },
  {
   "cell_type": "code",
   "execution_count": null,
   "metadata": {},
   "outputs": [],
   "source": [
    "import folium\n",
    "from folium.plugins import MarkerCluster\n",
    "\n",
    "def create_map():\n",
    "    my_map = folium.Map(location=[32.8, -117.2], zoom_start=11)\n",
    "    marker_cluster = MarkerCluster().add_to(my_map)\n",
    "    for i in np.arange(artpower.shape[0]):\n",
    "        folium.Marker(\n",
    "            location=[artpower.get('Latitude').iloc[i], artpower.get('Longitude').iloc[i]],\n",
    "            tooltip=\"Click me!\",\n",
    "            popup=artpower.get('Event Name').iloc[i] + ' on ' + artpower.get('Date').iloc[i],\n",
    "            icon=folium.Icon(icon=\"star\")\n",
    "        ).add_to(marker_cluster)\n",
    "    return my_map\n",
    "\n",
    "create_map()"
   ]
  },
  {
   "cell_type": "markdown",
   "metadata": {},
   "source": [
    "**Question 1.8.** From exploring the map above, you should see that there are only a few different `'Location'`s where ArtPower events take place. Since the map automatically clusters events at nearby `'Location'`s, you can easily see how many events take place on campus versus off campus. \n",
    "\n",
    "In the cell below, write code to extract the number of upcoming ArtPower events that will take place on and off campus, storing your results in `on_campus` and `off_campus`, respectively. Don't just type in the numbers you see in the map above; write code to extract the values from the `artpower` DataFrame. When you're done, make sure that your results agree with what you see in the map. \n",
    "\n",
    "You will need to use the fact that the only off-campus `'Location'` for upcoming ArtPower events is `'Balboa Theatre'` in downtown San Diego."
   ]
  },
  {
   "cell_type": "code",
   "execution_count": null,
   "metadata": {},
   "outputs": [],
   "source": [
    "on_campus = ...\n",
    "off_campus = ...\n",
    "print(\"There are\", on_campus, \"events on campus and\", off_campus, \"events off campus.\")"
   ]
  },
  {
   "cell_type": "code",
   "execution_count": null,
   "metadata": {
    "deletable": false,
    "editable": false
   },
   "outputs": [],
   "source": [
    "grader.check(\"q1_8\")"
   ]
  },
  {
   "cell_type": "markdown",
   "metadata": {},
   "source": [
    "## 2. Broadway Bound 🎭"
   ]
  },
  {
   "cell_type": "markdown",
   "metadata": {},
   "source": [
    "<center><img src='./images/hamilton.jpg' width = 400/></center>\n",
    "\n",
    "The new movie *Wicked*, a major box office success, is based on a Broadway musical by the same name. In this problem, we'll analyze other Broadway shows. We've provided a file, `./data/broadway.csv` that contains information about Broadway plays and musicals from 1985 to 2020. The dataset comes from [Kaggle](https://www.kaggle.com/datasets/jessemostipak/broadway-weekly-grosses?select=grosses.csv) and was originally scraped from [Playbill](https://playbill.com/grosses) contains a row for each week for each show on Broadway. For each week and show combination, we have the following pieces of information that we will use to generate insights about the state of musicals over time. \n",
    "\n",
    "|Column|Description|\n",
    "|------|-----------|\n",
    "|`'Week Ending'`|The week, referenced by the Sunday at the end of the week.|\n",
    "|`'Show'`|The name of the play or musical.|\n",
    "|`'Theatre'`|The location or venue at which the show was held.|\n",
    "|`'Weekly Gross'`|The total revenue generated from ticket sales for that show during that week.|\n",
    "|`'Seats Sold'`|The total number of seats sold for that show during that week.|\n",
    "|`'Performances'`|The number of performances of the show held during that week, including \"previews\" before the official opening.|"
   ]
  },
  {
   "cell_type": "code",
   "execution_count": null,
   "metadata": {},
   "outputs": [],
   "source": [
    "# Run this cell to load the dataset.\n",
    "broadway = bpd.read_csv('data/broadway.csv') \n",
    "broadway"
   ]
  },
  {
   "cell_type": "markdown",
   "metadata": {},
   "source": [
    "**Question 2.1.** Find the name of the show that generated the most revenue during the timespan of our dataset. Assign your answer to `most_revenue_show`. "
   ]
  },
  {
   "cell_type": "code",
   "execution_count": null,
   "metadata": {},
   "outputs": [],
   "source": [
    "most_revenue_show = ...\n",
    "most_revenue_show"
   ]
  },
  {
   "cell_type": "code",
   "execution_count": null,
   "metadata": {
    "deletable": false,
    "editable": false
   },
   "outputs": [],
   "source": [
    "grader.check(\"q2_1\")"
   ]
  },
  {
   "cell_type": "markdown",
   "metadata": {},
   "source": [
    "**Question 2.2.** Broadway shows come and go, but some stay longer than others. Which show in `broadway` was on Broadway for the greatest number of weeks (not necessarily consecutive)? Assign you answer to `most_weeks_show`."
   ]
  },
  {
   "cell_type": "code",
   "execution_count": null,
   "metadata": {},
   "outputs": [],
   "source": [
    "most_weeks_show = ...\n",
    "most_weeks_show"
   ]
  },
  {
   "cell_type": "code",
   "execution_count": null,
   "metadata": {
    "deletable": false,
    "editable": false
   },
   "outputs": [],
   "source": [
    "grader.check(\"q2_2\")"
   ]
  },
  {
   "cell_type": "markdown",
   "metadata": {},
   "source": [
    "**Question 2.3.** Add a column to `broadway` that contains, for each week and show combination, the average price of a ticket for that show during that week. Call your new column `'AvgTicket'`, and save the resulting DataFrame in the variable `broadway`."
   ]
  },
  {
   "cell_type": "code",
   "execution_count": null,
   "metadata": {},
   "outputs": [],
   "source": [
    "broadway = ...\n",
    "broadway                    "
   ]
  },
  {
   "cell_type": "code",
   "execution_count": null,
   "metadata": {
    "deletable": false,
    "editable": false
   },
   "outputs": [],
   "source": [
    "grader.check(\"q2_3\")"
   ]
  },
  {
   "cell_type": "markdown",
   "metadata": {},
   "source": [
    "**Question 2.4.** The musical *Wicked* has been at the Gershwin Theatre continuously since its opening in 2003. Create a line plot that displays how the average weekly ticket price for *Wicked* has changed over time."
   ]
  },
  {
   "cell_type": "markdown",
   "metadata": {
    "deletable": false,
    "editable": false
   },
   "source": [
    "<!-- BEGIN QUESTION -->\n",
    "\n",
    "<!--\n",
    "BEGIN QUESTION\n",
    "name: q2_4\n",
    "manual: True\n",
    "-->"
   ]
  },
  {
   "cell_type": "code",
   "execution_count": null,
   "metadata": {},
   "outputs": [],
   "source": [
    "# Create your line plot here.\n",
    "..."
   ]
  },
  {
   "cell_type": "markdown",
   "metadata": {},
   "source": [
    "<!-- END QUESTION -->\n",
    "\n",
    "\n",
    "\n",
    "It looks like *Wicked* ticket prices fluctuate a lot throughout each year, which is referred to as *seasonal variation*. Most likely, this phenomenon is not particular to *Wicked* but exists to some degree for all Broadway shows. Let's try to find out what time of year Broadway tickets are most expensive. "
   ]
  },
  {
   "cell_type": "markdown",
   "metadata": {},
   "source": [
    "**Question 2.5.** Create a new DataFrame called `with_month` that has all the data in `broadway`, plus a column called `'Month'`. `'Month'` should contain strings with two characters (e.g. `'04'` for April) corresponding to the dates in the `'Week Ending'` column. \n",
    "\n",
    "***Hint:*** Use the function you wrote in Question 1.4 to extract the month. Even though dates are written differently in this problem than in the last problem, the process of pulling out the month from a full date is exactly the same!"
   ]
  },
  {
   "cell_type": "code",
   "execution_count": null,
   "metadata": {},
   "outputs": [],
   "source": [
    "with_month = ...\n",
    "with_month"
   ]
  },
  {
   "cell_type": "code",
   "execution_count": null,
   "metadata": {
    "deletable": false,
    "editable": false
   },
   "outputs": [],
   "source": [
    "grader.check(\"q2_5\")"
   ]
  },
  {
   "cell_type": "markdown",
   "metadata": {},
   "source": [
    "**Question 2.6.** Create a line plot showing the mean value of `'Avg Ticket'` for each month of the year, to see the seasonal variation. Then, assign `most_expensive` to the month of the year (again, as a string like `'04'`) where ticket prices tend to be the most expensive. Extract this month using Python code, but verify visually that it matches up with what your line plot shows."
   ]
  },
  {
   "cell_type": "code",
   "execution_count": null,
   "metadata": {},
   "outputs": [],
   "source": [
    "# Create your line plot here.\n",
    "..."
   ]
  },
  {
   "cell_type": "code",
   "execution_count": null,
   "metadata": {},
   "outputs": [],
   "source": [
    "most_expensive = ...\n",
    "most_expensive "
   ]
  },
  {
   "cell_type": "code",
   "execution_count": null,
   "metadata": {
    "deletable": false,
    "editable": false
   },
   "outputs": [],
   "source": [
    "grader.check(\"q2_6\")"
   ]
  },
  {
   "cell_type": "markdown",
   "metadata": {},
   "source": [
    "**Question 2.7.** Which Broadway theatres have hosted the most performances? To answer this question, create a DataFrame named `theatre_proportions` indexed by `Theatre`, with one column `'Proportion'`. The `'Proportion'` column should contain, for each theatre, the proportion of performances in the dataset that were held in that theatre. Remember that each row of our dataset corresponds to multiple performances! Order the rows of `theatre_proportions` in descending order of `'Proportion'`. "
   ]
  },
  {
   "cell_type": "code",
   "execution_count": null,
   "metadata": {},
   "outputs": [],
   "source": [
    "theatre_proportions = ...\n",
    "theatre_proportions"
   ]
  },
  {
   "cell_type": "code",
   "execution_count": null,
   "metadata": {
    "deletable": false,
    "editable": false
   },
   "outputs": [],
   "source": [
    "grader.check(\"q2_7\")"
   ]
  },
  {
   "cell_type": "markdown",
   "metadata": {},
   "source": [
    "**Question 2.8.** Broadway shows tend to bring in a lot of money each week! With multiple performances, packed theatres, and high ticket prices, the revenue stream is flowing! Let's explore how much money was brought in each week by the show *Hamilton*,  a popular award-winning musical that debuted on Broadway in 2015. Plot a density histogram that shows the distribution of `'Weekly Gross'` for *Hamilton* over the period between its debut and the end of data collection. Use bins with a width of a quarter of a million dollars, and make sure that all the data from *Hamilton* is included within your bins."
   ]
  },
  {
   "cell_type": "markdown",
   "metadata": {
    "deletable": false,
    "editable": false
   },
   "source": [
    "<!-- BEGIN QUESTION -->\n",
    "\n",
    "<!--\n",
    "BEGIN QUESTION\n",
    "name: q2_8\n",
    "manual: True\n",
    "-->"
   ]
  },
  {
   "cell_type": "code",
   "execution_count": null,
   "metadata": {},
   "outputs": [],
   "source": [
    "# Create your histogram here.\n",
    "..."
   ]
  },
  {
   "cell_type": "markdown",
   "metadata": {},
   "source": [
    "<!-- END QUESTION -->\n",
    "\n",
    "\n",
    "\n",
    "**Question 2.9.** Without writing any code, can you estimate the proportion of weeks for which *Hamilton* earned between \\\\$3,000,000 (inclusive) and \\\\$3,250,000 (exclusive)? Assign your answer to `prop_between` as a float between 0 and 1."
   ]
  },
  {
   "cell_type": "code",
   "execution_count": null,
   "metadata": {},
   "outputs": [],
   "source": [
    "prop_between = ...\n",
    "prop_between"
   ]
  },
  {
   "cell_type": "code",
   "execution_count": null,
   "metadata": {
    "deletable": false,
    "editable": false
   },
   "outputs": [],
   "source": [
    "grader.check(\"q2_9\")"
   ]
  },
  {
   "cell_type": "markdown",
   "metadata": {},
   "source": [
    "**Question 2.10.** Broadway shows often have interesting and memorable names that reflect their themes, characters, or settings. From classics like *The Phantom of the Opera* to modern hits like *Hamilton*, these names capture the imagination and hint at the unique stories waiting to be told on stage. How often do Broadway shows get one-word names? Assign `one_word` to the proportion of Broadway show names that are only one word. Remember, each show appears multiple times in our DataFrame!\n",
    "\n",
    "***Note:*** Some shows are made up of numbers only, which are not really \"words\" in the conventional sense. We'll consider words to be chunks of text separated by spaces, so for example, the show `\"1776\"` should count as having one word."
   ]
  },
  {
   "cell_type": "code",
   "execution_count": null,
   "metadata": {},
   "outputs": [],
   "source": [
    "one_word = ...\n",
    "one_word"
   ]
  },
  {
   "cell_type": "code",
   "execution_count": null,
   "metadata": {
    "deletable": false,
    "editable": false
   },
   "outputs": [],
   "source": [
    "grader.check(\"q2_10\")"
   ]
  },
  {
   "cell_type": "markdown",
   "metadata": {},
   "source": [
    "## 3. Final Stretch 🧘‍♀️"
   ]
  },
  {
   "cell_type": "markdown",
   "metadata": {},
   "source": [
    "Suppose we have a DataFrame named `data` with two numerical columns, `'x'` and `'y'`. Consider the following scatter plot, which was generated by calling `data.plot(kind='scatter', x='x', y='y')`:\n",
    "\n",
    "<img src='images/q3_scatter.png' width=400/>\n",
    "\n",
    "Now consider these two histograms:\n",
    "\n",
    "<center>\n",
    "    <table><tr>\n",
    "        <td><center><b>Histogram A</b><br> <img src='images/q3_hist_one.png' width=400></center> </td>\n",
    "        <td><center><b>Histogram B</b><br> <img src='images/q3_hist_two.png' width=400></center> </td>\n",
    "    </tr></table>\n",
    "</center>"
   ]
  },
  {
   "cell_type": "markdown",
   "metadata": {},
   "source": [
    "**Question 3.1.** Which of the following lines of code generated Histogram A? Assign either `1`, `2`, `3`, or `4` to `which_code`.\n",
    "\n",
    " 1. `data.plot(kind='hist', density=False, y='x')`\n",
    " 2. `data.plot(kind='hist', density=False, y='y')` \n",
    " 3. `data.plot(kind='hist', density=True, y='x')`\n",
    " 4. `data.plot(kind='hist', density=True, y='y')`"
   ]
  },
  {
   "cell_type": "code",
   "execution_count": null,
   "metadata": {},
   "outputs": [],
   "source": [
    "which_code = ..."
   ]
  },
  {
   "cell_type": "code",
   "execution_count": null,
   "metadata": {
    "deletable": false,
    "editable": false
   },
   "outputs": [],
   "source": [
    "grader.check(\"q3_1\")"
   ]
  },
  {
   "cell_type": "markdown",
   "metadata": {},
   "source": [
    "**Question 3.2.** Suppose we run this block of code:\n",
    "\n",
    "```py\n",
    "new_data = bpd.DataFrame().assign(\n",
    "    x = data.get('x') / 5,\n",
    "    y = data.get('y')\n",
    ")\n",
    "```\n",
    "    \n",
    "We then run \n",
    "\n",
    "`new_data.plot(kind='hist', density=True, y='x')`.\n",
    "\n",
    "How will this histogram look compared to the histogram created by \n",
    "\n",
    "`data.plot(kind='hist', density=True, y='x')`, \n",
    "\n",
    "assuming both histograms are drawn on the same axes? Assign `histogram_difference` to either 1, 2, 3, or 4, corresponding to your choice.\n",
    "\n",
    "1. The `new_data` histogram will be wider and taller than the `data` histogram.\n",
    "2. The `new_data` histogram will be wider and shorter than the `data` histogram.\n",
    "3. The `new_data` histogram will be narrower and taller than the `data` histogram.\n",
    "4. The `new_data` histogram will be narrower and shorter than the `data` histogram.\n",
    "\n",
    "_*Hint*_: Look at the end of [Lecture 7](https://dsc10.com/resources/lectures/lec07/lec07.html#Plotting-overlaid-histograms) for an example of two histograms drawn on the same axes."
   ]
  },
  {
   "cell_type": "code",
   "execution_count": null,
   "metadata": {},
   "outputs": [],
   "source": [
    "histogram_difference = ..."
   ]
  },
  {
   "cell_type": "code",
   "execution_count": null,
   "metadata": {
    "deletable": false,
    "editable": false
   },
   "outputs": [],
   "source": [
    "grader.check(\"q3_2\")"
   ]
  },
  {
   "cell_type": "markdown",
   "metadata": {},
   "source": [
    "**Question 3.3.** Below, we show Histogram B again.\n",
    "\n",
    "<img src=\"./images/q3_hist_two.png\" width=400/>\n",
    "\n",
    "What **percent** of values in Histogram B are between -4 (inclusive) and -2 (exclusive)? While we cannot answer this question exactly since we do not know where the bins start and end, we can still approximate the answer. Assign the variable `percent_between` to a number 1 through 5, corresponding to the closest answer.\n",
    "\n",
    "1. 10% \n",
    "2. 13% \n",
    "3. 27%\n",
    "4. 35%\n",
    "5. 48%"
   ]
  },
  {
   "cell_type": "code",
   "execution_count": null,
   "metadata": {},
   "outputs": [],
   "source": [
    "percent_between = ..."
   ]
  },
  {
   "cell_type": "code",
   "execution_count": null,
   "metadata": {
    "deletable": false,
    "editable": false
   },
   "outputs": [],
   "source": [
    "grader.check(\"q3_3\")"
   ]
  },
  {
   "cell_type": "markdown",
   "metadata": {},
   "source": [
    "## Finish Line: Almost there, but make sure to follow the steps below to submit! 🏁\n",
    "\n",
    "**_Citations:_** Did you use any generative artificial intelligence tools to assist you on this assignment? If so, please state, for each tool you used, the name of the tool (ex. ChatGPT) and the problem(s) in this assignment where you used the tool for help."
   ]
  },
  {
   "cell_type": "markdown",
   "metadata": {},
   "source": [
    "<hr style='color:Maroon;background-color:Maroon;border:0 none; height: 3px;'>\n",
    "\n",
    "Please cite tools here.\n",
    "\n",
    "<hr style='color:Maroon;background-color:Maroon;border:0 none; height: 3px;'>"
   ]
  },
  {
   "cell_type": "markdown",
   "metadata": {},
   "source": [
    "To submit your assignment:\n",
    "\n",
    "1. Select `Kernel -> Restart & Run All` to ensure that you have executed all cells, including the test cells. \n",
    "1. Read through the notebook to make sure all cells ran and all tests passed.\n",
    "1. Run the cell below to run all tests, and make sure that they all pass.\n",
    "1. Download your notebook using `File -> Download as -> Notebook (.ipynb)`, then upload your notebook to Gradescope.\n",
    "1. Stick around while the Gradescope autograder grades your work. Make sure you see that all tests have passed on Gradescope.\n",
    "1. Check that you have a confirmation email from Gradescope and save it as proof of your submission. \n",
    "\n",
    "With homeworks, unlike with labs, the grade you see on Gradescope is **not your final score**. We will run correctness tests after the assignment's due date has passed."
   ]
  },
  {
   "cell_type": "code",
   "execution_count": null,
   "metadata": {
    "scrolled": true
   },
   "outputs": [],
   "source": [
    "grader.check_all()"
   ]
  }
 ],
 "metadata": {
  "kernelspec": {
   "display_name": "Python 3 (ipykernel)",
   "language": "python",
   "name": "python3"
  },
  "language_info": {
   "codemirror_mode": {
    "name": "ipython",
    "version": 3
   },
   "file_extension": ".py",
   "mimetype": "text/x-python",
   "name": "python",
   "nbconvert_exporter": "python",
   "pygments_lexer": "ipython3",
   "version": "3.9.5"
  },
  "toc": {
   "base_numbering": 1,
   "nav_menu": {},
   "number_sections": true,
   "sideBar": true,
   "skip_h1_title": false,
   "title_cell": "Table of Contents",
   "title_sidebar": "Contents",
   "toc_cell": false,
   "toc_position": {},
   "toc_section_display": true,
   "toc_window_display": false
  }
 },
 "nbformat": 4,
 "nbformat_minor": 4
}
