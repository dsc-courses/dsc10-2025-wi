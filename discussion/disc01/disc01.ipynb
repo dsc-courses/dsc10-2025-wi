{
 "cells": [
  {
   "cell_type": "markdown",
   "id": "10b7b71e",
   "metadata": {
    "slideshow": {
     "slide_type": "slide"
    }
   },
   "source": [
    "# Discussion 1 – Getting Started with Jupyter Notebooks\n",
    "\n",
    "## DSC 10, Winter 2025"
   ]
  },
  {
   "cell_type": "markdown",
   "id": "f2f0cd79",
   "metadata": {
    "slideshow": {
     "slide_type": "slide"
    }
   },
   "source": [
    "### Agenda\n",
    "\n",
    "- Introduction.\n",
    "- Python Basics.\n",
    "- DataHub.\n",
    "- Using Jupyter Notebooks.\n",
    "- Good programming style."
   ]
  },
  {
   "cell_type": "markdown",
   "id": "4e652b89",
   "metadata": {
    "slideshow": {
     "slide_type": "slide"
    }
   },
   "source": [
    "### Hi! I'm Ashley!\n",
    "- B.S. in Probability & Statistics, minor in Data Science from UCSD.\n",
    "- Currently a 1st year Data Science Master's student at UCSD.\n",
    "    - Previously tutored DSC 10 four times. Tutored DSC 30 and DSC 80 as well.\n",
    "    - Second time TA-ing DSC 10!\n",
    "- Outside interests: piano, cooking, movies & TV shows, my dog!\n",
    "\n",
    "<br>\n",
    "<center>\n",
    "    <table><tr>\n",
    "        <td> <img src=\"images/ashley.jpeg\" width=300> </td>\n",
    "        <td> <img src=\"images/beanie.jpeg\" width=300> </td>\n",
    "    </tr></table>\n",
    "</center>"
   ]
  },
  {
   "cell_type": "markdown",
   "id": "345cf667",
   "metadata": {
    "slideshow": {
     "slide_type": "slide"
    }
   },
   "source": [
    "### Discussion Format\n",
    "\n",
    "During discussions, we will assign problems for people to work through, spending 5 to 10 minutes on each one before reviewing the solution together and moving on to the next.\n",
    "\n",
    "Discussion questions for this quarter, as well as past exam questions, are available at [practice.dsc10.com](https://practice.dsc10.com/).\n",
    "\n",
    "Discussions will be on Mondays and Wednesdays, except on the two Monday holidays, the five Wednesdays when quizzes are scheduled, and the day of the Midterm. Attendance at discussions is **optional but highly recommended** to prepare for quizzes and exams (the hardest part of the class). "
   ]
  },
  {
   "cell_type": "markdown",
   "id": "3dd1d1dd",
   "metadata": {
    "slideshow": {
     "slide_type": "slide"
    }
   },
   "source": [
    "### Group Activity\n",
    "Find a group of 2-4 people sitting near you and introduce yourself! Ask your classmates about:\n",
    "- Major, college, and year at UCSD.\n",
    "- Hometown (who is from the furthest away?).\n",
    "- Favorite hobby.\n",
    "- Why are you interested in data science?"
   ]
  },
  {
   "cell_type": "markdown",
   "id": "ef617203",
   "metadata": {
    "slideshow": {
     "slide_type": "slide"
    }
   },
   "source": [
    "### Python Basics\n",
    "\n",
    "- **Programming**: Giving instructions to a computer to perform tasks. Typically these instructions are in the form of *code*, which can be in one of many *languages*.\n",
    "\n",
    "- **Python**: A popular programming language that is widely used for its readability and simplicity.\n",
    "\n",
    "- **Jupyter Notebooks**: An interactive environment where you can write and run code and see results immediately. "
   ]
  },
  {
   "cell_type": "markdown",
   "id": "52e32024",
   "metadata": {
    "slideshow": {
     "slide_type": "slide"
    }
   },
   "source": [
    "### Hello, World!\n",
    "\n",
    "A \"Hello, World!\" program is generally a simple computer program which outputs (or displays) the message \"Hello, World!\" \n",
    "\n",
    "While small test programs have existed since the development of computers, the tradition of using the phrase \"Hello, World!\" goes back an example program from 1978! Here is Python's \"Hello, World!\" program:"
   ]
  },
  {
   "cell_type": "code",
   "execution_count": null,
   "id": "60c0df40",
   "metadata": {},
   "outputs": [],
   "source": [
    "print(\"Hello, World!\")"
   ]
  },
  {
   "cell_type": "markdown",
   "id": "3f11d718",
   "metadata": {},
   "source": [
    "Here, the Python built-in `print()` function displays the text or numbers provided to it. In this case, we gave the text `\"Hello, World!\"` as the input to the print function."
   ]
  },
  {
   "cell_type": "markdown",
   "id": "d5fae28c",
   "metadata": {
    "slideshow": {
     "slide_type": "slide"
    }
   },
   "source": [
    "### Variables and Types\n",
    "\n",
    "- **Variables**: Containers for storing data values. In Python, variables are created the moment you give or assign a value to them using the `=` operator. Variables are case-sensitive.\n",
    "\n",
    "- **Types**: The different types of data that can be stored in variables. Python variables can hold various data types, including integers, floats, strings, booleans, tuples and lists. Use the built-in `type()` function to check the type of a variable by giving that variable as the input."
   ]
  },
  {
   "cell_type": "code",
   "execution_count": null,
   "id": "4927b767",
   "metadata": {
    "slideshow": {
     "slide_type": "subslide"
    }
   },
   "outputs": [],
   "source": [
    "a = 10       # integer variable (for whole numbers)\n",
    "a"
   ]
  },
  {
   "cell_type": "code",
   "execution_count": null,
   "id": "eb9e8d5c",
   "metadata": {},
   "outputs": [],
   "source": [
    "b = 5.5      # float variable (for numbers with a decimal point)\n",
    "b"
   ]
  },
  {
   "cell_type": "code",
   "execution_count": null,
   "id": "cccaf374",
   "metadata": {},
   "outputs": [],
   "source": [
    "c = \"Hello!\" # string variable (for text)\n",
    "c"
   ]
  },
  {
   "cell_type": "code",
   "execution_count": null,
   "id": "462812e0",
   "metadata": {},
   "outputs": [],
   "source": [
    "type(a), type(b), type(c)"
   ]
  },
  {
   "cell_type": "markdown",
   "id": "f29abefd",
   "metadata": {},
   "source": [
    "- Variable names must start with a letter or an underscore (`_`).\n",
    "- Variable names can only contain letters, numbers, and underscores.\n",
    "- Variable names cannot contain spaces or special characters."
   ]
  },
  {
   "cell_type": "markdown",
   "id": "1ebb371b",
   "metadata": {
    "slideshow": {
     "slide_type": "slide"
    }
   },
   "source": [
    "### Python Operators\n",
    "<center>$\\textbf{Python Arithmetic Operators and Functions}$</center>\n",
    "\n",
    "| Operator | Math | Code | Math Example | Code Example |\n",
    "|----------|------|------|---------|---------|\n",
    "|Addition  |$+$   |`+`   |$1 + 2 = 3$   |`1 + 2 == 3`  |\n",
    "|Subtraction|$-$   |`-`  |$1 - 2 = -1$|`1 - 2 == -1` |\n",
    "|Multiplication|$\\times$ |`*` |$1 \\times  2 = 2$|`1 * 2 == 2`|\n",
    "|Division  |$\\div$|`/`   |$1 \\div 2 = 0.5$|`1 / 2 == 0.5`|\n",
    "|Floor Division| $\\lfloor \\frac{a}{b}\\rfloor$\t|   `//` | $\\lfloor \\frac{1}{2}\\rfloor = 0$\t| `1 // 2 == 0`|\n",
    "|Exponentiation|$a^b$ |`**`  |$1^2 = 1$| `1 ** 2 == 1`|\n",
    "|Absolute Value| $|a|$\t|   `abs()` | $|-1| = 1$\t| `abs(-1) == 1`|\n",
    "|Remainder| mod\t|   `%` | $5~\\text{mod}~2 = 1$\t| `5 % 2 == 1`|"
   ]
  },
  {
   "cell_type": "code",
   "execution_count": null,
   "id": "c434ea68",
   "metadata": {
    "slideshow": {
     "slide_type": "subslide"
    }
   },
   "outputs": [],
   "source": [
    "# addition\n",
    "5 + 2 "
   ]
  },
  {
   "cell_type": "code",
   "execution_count": null,
   "id": "902b2d34",
   "metadata": {},
   "outputs": [],
   "source": [
    "# subtraction\n",
    "5 - 2"
   ]
  },
  {
   "cell_type": "code",
   "execution_count": null,
   "id": "88e63a1c",
   "metadata": {},
   "outputs": [],
   "source": [
    "# multiplication\n",
    "5 * 2"
   ]
  },
  {
   "cell_type": "code",
   "execution_count": null,
   "id": "666f387c",
   "metadata": {},
   "outputs": [],
   "source": [
    "# division\n",
    "5 / 2"
   ]
  },
  {
   "cell_type": "code",
   "execution_count": null,
   "id": "b8909f0e",
   "metadata": {},
   "outputs": [],
   "source": [
    "# floor division - divide and truncate any decimal part (round down)\n",
    "5 // 2"
   ]
  },
  {
   "cell_type": "code",
   "execution_count": null,
   "id": "a08af906",
   "metadata": {},
   "outputs": [],
   "source": [
    "# exponentiation\n",
    "5 ** 2"
   ]
  },
  {
   "cell_type": "code",
   "execution_count": null,
   "id": "b521b4ce",
   "metadata": {},
   "outputs": [],
   "source": [
    "# absolute value\n",
    "abs(-5)"
   ]
  },
  {
   "cell_type": "code",
   "execution_count": null,
   "id": "58a17b7a",
   "metadata": {},
   "outputs": [],
   "source": [
    "# remainder\n",
    "5 % 2"
   ]
  },
  {
   "cell_type": "markdown",
   "id": "c96eaea0",
   "metadata": {
    "slideshow": {
     "slide_type": "slide"
    }
   },
   "source": [
    "### Imports and Modules\n",
    "\n",
    "In Python, you use the `import` keyword to access a bundle of code called a module (or package). Access components of the imported module using \"dot notation.\""
   ]
  },
  {
   "cell_type": "code",
   "execution_count": null,
   "id": "51a756f4",
   "metadata": {},
   "outputs": [],
   "source": [
    "import math"
   ]
  },
  {
   "cell_type": "code",
   "execution_count": null,
   "id": "19d18388",
   "metadata": {},
   "outputs": [],
   "source": [
    "# Calculate the area of a circle with radius r. Try changing r!\n",
    "r = 1\n",
    "math.pi * r ** 2 # note the order of operations"
   ]
  },
  {
   "cell_type": "code",
   "execution_count": null,
   "id": "a768b2d0",
   "metadata": {},
   "outputs": [],
   "source": [
    "r = 1\n",
    "pi * r ** 2  # Doesn't work because there is no variable named pi!"
   ]
  },
  {
   "cell_type": "markdown",
   "id": "38811475",
   "metadata": {},
   "source": [
    "In this class we will have the code `import babypandas as bpd` at the start of essentially every Jupyter Notebook, which will import our custom version of the popular data-science module `pandas` for you to use throughout that notebook."
   ]
  },
  {
   "cell_type": "markdown",
   "id": "e6374e48",
   "metadata": {
    "slideshow": {
     "slide_type": "slide"
    }
   },
   "source": [
    "### DataHub\n",
    "\n",
    "Let's go through:\n",
    "- What is DataHub?\n",
    "- Accessing DataHub.\n",
    "    - Selecting the DSC 10 environment on DataHub for this class.\n",
    "- Viewing the lecture notebooks.\n",
    "- Uploading files.\n",
    "- Creating a notebook."
   ]
  },
  {
   "cell_type": "markdown",
   "id": "eee08426",
   "metadata": {
    "slideshow": {
     "slide_type": "slide"
    }
   },
   "source": [
    "### Using Jupyter Notebooks\n",
    "\n",
    "Let's see how to:\n",
    "- Add and delete cells, run all, run before, run after. \n",
    "- Run current cell using **shift + enter**. \n",
    "- Change cells to code or markdown.\n",
    "- Enter command mode (blue bar) and edit mode (green bar). \n",
    "- Add cell before with 'a', add cell after with 'b', and delete cell with 'dd'.\n",
    "    - All keyboard shortcuts are under the \"Help\" tab\n",
    "- Comment and indent blocks of text.\n",
    "- Tab to autocomplete variable names.\n",
    "- Display variables in code cells."
   ]
  },
  {
   "cell_type": "markdown",
   "id": "168298d5",
   "metadata": {
    "slideshow": {
     "slide_type": "slide"
    }
   },
   "source": [
    "### Jupyter Notebook Memory\n",
    "- The Jupyter kernel has short-term memory: leaving it for a while or restarting it will cause it to \"forget\" all the variables you've defined.\n",
    "- When this happens, restart the kernel and run all cells.\n",
    "    - In the menu, Kernel -> Restart and Run All does this in one step, but it will stop at the first error it encounters.\n",
    "- Be careful - running cells out of order or running cells multiple times may cause problems."
   ]
  },
  {
   "cell_type": "code",
   "execution_count": null,
   "id": "99e71d2d",
   "metadata": {
    "scrolled": true,
    "slideshow": {
     "slide_type": "-"
    }
   },
   "outputs": [],
   "source": [
    "a = 3"
   ]
  },
  {
   "cell_type": "code",
   "execution_count": null,
   "id": "9ffd6c53",
   "metadata": {},
   "outputs": [],
   "source": [
    "b = 7"
   ]
  },
  {
   "cell_type": "code",
   "execution_count": null,
   "id": "e1a59295",
   "metadata": {},
   "outputs": [],
   "source": [
    "print(\"a:\", a)\n",
    "print(\"b:\", b)\n",
    "a = a + b\n",
    "a"
   ]
  },
  {
   "cell_type": "markdown",
   "id": "0c1812c9",
   "metadata": {
    "slideshow": {
     "slide_type": "slide"
    }
   },
   "source": [
    "### Navigating Jupyter Notebooks Video\n",
    "\n",
    "We highly recommend watching [this video](https://youtu.be/Hq8VaNirDRQ) for more information. The video is long, but is timestamped so you can jump to specific topics:\n",
    "\n",
    "Timestamps:  \n",
    "0:20 – What is DataHub?  \n",
    "1:04 – Accessing DataHub  \n",
    "2:15 – File organization  \n",
    "4:07 – Clicking links on the course website  \n",
    "6:29 – Uploading files and creating new notebooks  \n",
    "10:02 – Running cells (IMPORTANT!)  \n",
    "10:58 – Test cases in labs vs. homeworks  \n",
    "11:57 – Restarting the kernel  \n",
    "13:49 – Restart and Run All  \n",
    "14:40 – Adding and deleting cells with keyboard shortcuts; command mode vs. edit mode  \n",
    "17:54 – Interrupting the kernel  \n",
    "19:11 – Saving  \n",
    "20:05 – Download as .ipynb (even on iPads!)  "
   ]
  },
  {
   "cell_type": "code",
   "execution_count": null,
   "id": "c1a41334",
   "metadata": {},
   "outputs": [],
   "source": [
    "from IPython.display import YouTubeVideo\n",
    "YouTubeVideo(\"Hq8VaNirDRQ\")"
   ]
  },
  {
   "cell_type": "markdown",
   "id": "29b94e5a",
   "metadata": {
    "slideshow": {
     "slide_type": "slide"
    }
   },
   "source": [
    "### Debugging\n",
    "\n",
    "If you run into a technical issue, check out the [debugging page](https://dsc10.com/debugging/) on the course website."
   ]
  },
  {
   "cell_type": "markdown",
   "id": "48e4b93b",
   "metadata": {
    "slideshow": {
     "slide_type": "slide"
    }
   },
   "source": [
    "### Good programming style\n",
    "#### Variable Names\n",
    "- Choose descriptive, concise variable names.\n",
    "\n",
    "<img src='images/goodcode.png' width=50% style=\"float:left\"> <font color=\"red\" style=\"font-size:2.5em\"> <b>vs</b> </font><img src='images/badcode.png' width=30% style=\"float:right\">"
   ]
  },
  {
   "cell_type": "markdown",
   "id": "a7a54310",
   "metadata": {
    "slideshow": {
     "slide_type": "subslide"
    }
   },
   "source": [
    "- If using multiple words, `separate_like_this` (called snake_case).\n",
    "<center><img src='images/image.png' width=45%></center>"
   ]
  },
  {
   "cell_type": "markdown",
   "id": "7425fc27",
   "metadata": {
    "slideshow": {
     "slide_type": "slide"
    }
   },
   "source": [
    "### Whitespace\n",
    "\n",
    "Whitespace doesn't affect the running of your code in Python, but for readability (and future classes or programming languages!) this is important.\n",
    "\n",
    "- Put spaces in between operators (`x = 1` vs `x=1`).\n",
    "- Don't be afraid to start new lines or create new variables if your line of code becomes too long.\n",
    "- Break up long lines of code with `\\`.\n",
    "<img src='images/example.png' width=70%>"
   ]
  },
  {
   "cell_type": "code",
   "execution_count": null,
   "id": "c6f404dd",
   "metadata": {
    "slideshow": {
     "slide_type": "slide"
    }
   },
   "outputs": [],
   "source": [
    "# Comment your code like this!\n",
    "section_a_students = 148\n",
    "total_students = 464 # Total number of students in all sections of the class."
   ]
  },
  {
   "cell_type": "markdown",
   "id": "a3ca886f",
   "metadata": {
    "slideshow": {
     "slide_type": "slide"
    }
   },
   "source": [
    "### Discussion questions\n",
    "\n",
    "The discussion problems are available at [practice.dsc10.com](https://practice.dsc10.com). New problem sets will be posted before each discussion, and solutions will posted in the evenings after the discussion sections have finished. In future discussion sessions, we'll spend the whole time on problem sets."
   ]
  },
  {
   "cell_type": "markdown",
   "id": "aa66c90f",
   "metadata": {
    "slideshow": {
     "slide_type": "slide"
    }
   },
   "source": [
    "### Thank You!\n",
    "\n",
    "- Next discussion will be Monday, January 13th.\n",
    "- Please fill out the [Welcome Survey](https://docs.google.com/forms/d/e/1FAIpQLSewlA3Thb_Yr6pE6w8Ldv_wTMXstIJc0O0vMAKPzvW-Iw9PbA/viewform).\n",
    "- If you have any questions, feel free to ask after your discussion section, during office hours, or on Ed!"
   ]
  }
 ],
 "metadata": {
  "kernelspec": {
   "display_name": "Python 3 (ipykernel)",
   "language": "python",
   "name": "python3"
  },
  "language_info": {
   "codemirror_mode": {
    "name": "ipython",
    "version": 3
   },
   "file_extension": ".py",
   "mimetype": "text/x-python",
   "name": "python",
   "nbconvert_exporter": "python",
   "pygments_lexer": "ipython3",
   "version": "3.10.14"
  },
  "latex_envs": {
   "LaTeX_envs_menu_present": true,
   "autoclose": false,
   "autocomplete": true,
   "bibliofile": "biblio.bib",
   "cite_by": "apalike",
   "current_citInitial": 1,
   "eqLabelWithNumbers": true,
   "eqNumInitial": 1,
   "hotkeys": {
    "equation": "Ctrl-E",
    "itemize": "Ctrl-I"
   },
   "labels_anchors": false,
   "latex_user_defs": false,
   "report_style_numbering": false,
   "user_envs_cfg": false
  },
  "livereveal": {
   "scroll": true,
   "transition": "none"
  },
  "rise": {
   "enable_chalkboard": true
  }
 },
 "nbformat": 4,
 "nbformat_minor": 5
}
